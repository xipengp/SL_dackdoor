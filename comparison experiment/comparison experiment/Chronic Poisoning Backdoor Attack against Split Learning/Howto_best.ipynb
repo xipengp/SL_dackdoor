{
 "cells": [
  {
   "cell_type": "code",
   "execution_count": 1,
   "id": "ccf9abbd",
   "metadata": {},
   "outputs": [
    {
     "name": "stderr",
     "output_type": "stream",
     "text": [
      "2024-08-13 09:45:54.521841: I tensorflow/stream_executor/platform/default/dso_loader.cc:48] Successfully opened dynamic library libcudart.so.10.1\n"
     ]
    }
   ],
   "source": [
    "import tensorflow as tf\n",
    "from tensorflow.keras.datasets import cifar10\n",
    "from tensorflow.keras.applications import EfficientNetB0\n",
    "from tensorflow.keras.models import Sequential\n",
    "from tensorflow.keras.layers import Dense, Flatten, Input, GlobalAveragePooling2D\n",
    "from tensorflow.keras.utils import to_categorical\n",
    "import os\n",
    "\n",
    "from tensorflow.keras.optimizers import Adam\n",
    "os.environ[\"CUDA_VISIBLE_DEVICES\"] = '1'\n",
    "# 加载 CIFAR-10 数据\n",
    "import random\n",
    "import numpy as np\n",
    "# Load and preprocess CIFAR-10 data\n",
    "(x_train, y_train), (x_test, y_test) = cifar10.load_data()\n",
    "x_train = x_train.astype('float32') / 255.0\n",
    "x_test = x_test.astype('float32') / 255.0\n",
    "y_train = to_categorical(y_train, num_classes=10)\n",
    "y_test = to_categorical(y_test, num_classes=10)\n",
    "from sklearn.model_selection import train_test_split\n",
    "x_train, x_val, y_train, y_val = train_test_split(x_train, y_train, test_size=0.2, random_state=42)\n"
   ]
  },
  {
   "cell_type": "code",
   "execution_count": 2,
   "id": "d7494fcb",
   "metadata": {},
   "outputs": [],
   "source": [
    "##该模型并没有使用双重对齐，因为我使用的数据错了。"
   ]
  },
  {
   "cell_type": "code",
   "execution_count": null,
   "id": "3dc08fc9",
   "metadata": {},
   "outputs": [],
   "source": []
  },
  {
   "cell_type": "code",
   "execution_count": 3,
   "id": "6fbd2c18",
   "metadata": {},
   "outputs": [],
   "source": [
    "\n",
    "def add_trigger(img):\n",
    "    trigger_size =4\n",
    "    img[-trigger_size:, -trigger_size:, 0] =0# 设置为红色\n",
    "    img[-trigger_size:, -trigger_size:, 1:3] = 0\n",
    "    return img\n",
    "\n",
    "\n",
    "# Apply the SIG backdoor attack\n",
    "# Apply the SIG backdoor attack to the training set\n",
    "\n",
    "# 选择1%的训练数据进行攻击\n",
    "\n",
    "target_class = 1  # 目标类别\n",
    "num_classes = 10  # CIFAR-10 数据集的类别数\n",
    "\n",
    "# 新的数据集和标签列表\n",
    "x_val_triggered = []  # 存储触发器转换后的图像\n",
    "y_val_triggered = []  # 存储更新后的标签\n",
    "\n",
    "x_val_tigger = x_val.copy()\n",
    "y_val_tigger = y_val.copy()\n",
    "y_val_tigger_2 = np.zeros(len(y_val))  # 所有标签初始化为0\n",
    "# 将标签转换为one-hot编码\n",
    "y_val_tigger_2 = to_categorical(y_val_tigger_2, num_classes=2)\n",
    "\n",
    "\n",
    "num_samples = int(0.1 * x_val.shape[0])\n",
    "indices = np.random.choice(y_val.shape[0], num_samples, replace=False)\n",
    "\n",
    "\n",
    "\n",
    "# 应用攻击到选中的图像\n",
    "for i in indices:\n",
    "    x_val_tigger[i] = add_trigger(x_val_tigger[i])\n",
    "    y_val_tigger[i] = to_categorical(target_class, num_classes=num_classes)\n",
    "    y_val_tigger_2[i] = to_categorical(target_class, num_classes = 2 )\n",
    "        \n",
    "    \n",
    "x_test_tigger = x_test.copy()\n",
    "y_test_tigger = y_test.copy()\n",
    "\n",
    "for i in range(len(x_test_tigger)):\n",
    "    x_test_tigger[i] = add_trigger(x_test_tigger[i])\n",
    "    y_test_tigger[i] = to_categorical(target_class, num_classes=num_classes)\n",
    "##进行攻击的思路\n",
    "#1.将数据集分成两部分  8比2吧\n",
    "#2.每个epcoch后再单独优化一下服务器模型，保持模拟的客户端模型不变，后门数据要多一些\n",
    "#3.验证数据集结果\n",
    "\n",
    "\n",
    "\n",
    "    "
   ]
  },
  {
   "cell_type": "code",
   "execution_count": null,
   "id": "22c3a67b",
   "metadata": {},
   "outputs": [],
   "source": []
  },
  {
   "cell_type": "code",
   "execution_count": null,
   "id": "a3a9475f",
   "metadata": {},
   "outputs": [],
   "source": []
  },
  {
   "cell_type": "code",
   "execution_count": 4,
   "id": "37fe474a",
   "metadata": {},
   "outputs": [],
   "source": [
    "import tensorflow as tf\n",
    "from tensorflow.keras import layers, models\n",
    "\n",
    "\n",
    "def create_client_model(input_shape):\n",
    "    input_layer = layers.Input(shape=input_shape)\n",
    "    \n",
    "    # 第一层卷积\n",
    "    x = layers.Conv2D(32, 3, strides=1, padding='same')(input_layer)\n",
    "    x = layers.BatchNormalization()(x)\n",
    "    x = layers.Activation('relu')(x)\n",
    "    \n",
    "    # 第二层卷积\n",
    "    x = layers.Conv2D(64, 3, strides=1, padding='same')(x)\n",
    "    x = layers.BatchNormalization()(x)\n",
    "    x = layers.Activation('relu')(x)\n",
    "    \n",
    "    # 新增的第三层卷积\n",
    "    x = layers.Conv2D(128, 3, strides=1, padding='same')(x)\n",
    "    x = layers.BatchNormalization()(x)\n",
    "    x = layers.Activation('relu')(x)\n",
    "    \n",
    "    model = models.Model(inputs=input_layer, outputs=x)\n",
    "    return model\n"
   ]
  },
  {
   "cell_type": "code",
   "execution_count": 5,
   "id": "abb50748",
   "metadata": {},
   "outputs": [],
   "source": [
    "from tensorflow.keras import layers, models\n",
    "\n",
    "def res_block(filters, strides):\n",
    "    def block(x):\n",
    "        shortcut = x\n",
    "\n",
    "        x = layers.Conv2D(filters, 3, padding='same', strides=strides)(x)\n",
    "        x = layers.BatchNormalization()(x)\n",
    "        x = layers.Activation('relu')(x)\n",
    "\n",
    "        x = layers.Conv2D(filters, 3, padding='same')(x)\n",
    "        x = layers.BatchNormalization()(x)\n",
    "\n",
    "        # 捷径连接前的调整\n",
    "        shortcut = layers.Conv2D(filters, 1, strides=strides, padding='same')(shortcut)\n",
    "        shortcut = layers.BatchNormalization()(shortcut)\n",
    "\n",
    "        x = layers.add([x, shortcut])\n",
    "        x = layers.Activation('relu')(x)\n",
    "        return x\n",
    "    return block\n",
    "\n",
    "def create_server_model():\n",
    "    # 调整输入层的定义以匹配修改后的客户端模型的输出\n",
    "    input_layer = layers.Input(shape=(32, 32, 128))  # 注意这里的变化\n",
    "\n",
    "    # 残差块定义保持不变，继续使用提前定义的 res_block\n",
    "    x = res_block(64, 1)(input_layer)  # 使用第一个残差块\n",
    "    x = res_block(128, 2)(x)            # 使用第二个残差块\n",
    "    x = res_block(128, 2)(x)           # 使用第三个残差块\n",
    "    x = res_block(256, 2)(x)           # 使用第四个残差块\n",
    "\n",
    "    # 全局平均池化和输出层保持不变\n",
    "    x = layers.GlobalAveragePooling2D()(x)\n",
    "    output = layers.Dense(10, activation='softmax')(x)\n",
    "    \n",
    "    model = models.Model(inputs=input_layer, outputs=output)\n",
    "    return model"
   ]
  },
  {
   "cell_type": "code",
   "execution_count": 6,
   "id": "a7435cba",
   "metadata": {},
   "outputs": [],
   "source": [
    "def create_aux_model():\n",
    "    # 调整输入层的定义以匹配修改后的客户端模型的输出\n",
    "    input_layer = layers.Input(shape=(32, 32, 128))  # 注意这里的变化\n",
    "\n",
    "    # 第一个卷积层和ReLU激活\n",
    "    x = layers.Conv2D(128, 3, strides=2, padding='same')(input_layer)\n",
    "    x = layers.ReLU()(x)\n",
    "\n",
    "    # 第二个卷积层和ReLU激活\n",
    "    x = layers.Conv2D(128, 3, strides=2, padding='same')(x)\n",
    "    x = layers.ReLU()(x)\n",
    "\n",
    "    # 添加残差块\n",
    "    x = res_block(256, 1)(x)  # 使用第一个残差块\n",
    "    x = res_block(256, 1)(x) # 使用第二个残差块\n",
    "\n",
    "    # 第三个卷积层和ReLU激活\n",
    "    x = layers.Conv2D(256, 3, strides=2, padding='same')(x)\n",
    "    x = layers.ReLU()(x)\n",
    "\n",
    "    # 全连接层\n",
    "    x = layers.Flatten()(x)\n",
    "    output = layers.Dense(2, activation='softmax')(x)\n",
    "    \n",
    "    model = models.Model(inputs=input_layer, outputs=output)\n",
    "    return model\n"
   ]
  },
  {
   "cell_type": "code",
   "execution_count": 7,
   "id": "bb1a6413",
   "metadata": {},
   "outputs": [
    {
     "name": "stderr",
     "output_type": "stream",
     "text": [
      "2024-08-13 09:46:28.872236: I tensorflow/stream_executor/platform/default/dso_loader.cc:48] Successfully opened dynamic library libcuda.so.1\n",
      "2024-08-13 09:46:29.019038: I tensorflow/core/common_runtime/gpu/gpu_device.cc:1716] Found device 0 with properties: \n",
      "pciBusID: 0000:86:00.0 name: NVIDIA Tesla V100-PCIE-16GB computeCapability: 7.0\n",
      "coreClock: 1.38GHz coreCount: 80 deviceMemorySize: 15.78GiB deviceMemoryBandwidth: 836.37GiB/s\n",
      "2024-08-13 09:46:29.019142: I tensorflow/stream_executor/platform/default/dso_loader.cc:48] Successfully opened dynamic library libcudart.so.10.1\n",
      "2024-08-13 09:46:29.284515: I tensorflow/stream_executor/platform/default/dso_loader.cc:48] Successfully opened dynamic library libcublas.so.10\n",
      "2024-08-13 09:46:29.368336: I tensorflow/stream_executor/platform/default/dso_loader.cc:48] Successfully opened dynamic library libcufft.so.10\n",
      "2024-08-13 09:46:29.424670: I tensorflow/stream_executor/platform/default/dso_loader.cc:48] Successfully opened dynamic library libcurand.so.10\n",
      "2024-08-13 09:46:29.734837: I tensorflow/stream_executor/platform/default/dso_loader.cc:48] Successfully opened dynamic library libcusolver.so.10\n",
      "2024-08-13 09:46:29.781851: I tensorflow/stream_executor/platform/default/dso_loader.cc:48] Successfully opened dynamic library libcusparse.so.10\n",
      "2024-08-13 09:46:31.260057: I tensorflow/stream_executor/platform/default/dso_loader.cc:48] Successfully opened dynamic library libcudnn.so.7\n",
      "2024-08-13 09:46:31.265399: I tensorflow/core/common_runtime/gpu/gpu_device.cc:1858] Adding visible gpu devices: 0\n",
      "2024-08-13 09:46:31.274576: I tensorflow/core/platform/cpu_feature_guard.cc:142] This TensorFlow binary is optimized with oneAPI Deep Neural Network Library (oneDNN)to use the following CPU instructions in performance-critical operations:  AVX2 AVX512F FMA\n",
      "To enable them in other operations, rebuild TensorFlow with the appropriate compiler flags.\n",
      "2024-08-13 09:46:31.468508: I tensorflow/core/platform/profile_utils/cpu_utils.cc:104] CPU Frequency: 1700000000 Hz\n",
      "2024-08-13 09:46:31.469673: I tensorflow/compiler/xla/service/service.cc:168] XLA service 0x55afc7b96a70 initialized for platform Host (this does not guarantee that XLA will be used). Devices:\n",
      "2024-08-13 09:46:31.469717: I tensorflow/compiler/xla/service/service.cc:176]   StreamExecutor device (0): Host, Default Version\n",
      "2024-08-13 09:46:31.971231: I tensorflow/compiler/xla/service/service.cc:168] XLA service 0x55afc7b99780 initialized for platform CUDA (this does not guarantee that XLA will be used). Devices:\n",
      "2024-08-13 09:46:31.971310: I tensorflow/compiler/xla/service/service.cc:176]   StreamExecutor device (0): NVIDIA Tesla V100-PCIE-16GB, Compute Capability 7.0\n",
      "2024-08-13 09:46:32.041986: I tensorflow/core/common_runtime/gpu/gpu_device.cc:1716] Found device 0 with properties: \n",
      "pciBusID: 0000:86:00.0 name: NVIDIA Tesla V100-PCIE-16GB computeCapability: 7.0\n",
      "coreClock: 1.38GHz coreCount: 80 deviceMemorySize: 15.78GiB deviceMemoryBandwidth: 836.37GiB/s\n",
      "2024-08-13 09:46:32.042080: I tensorflow/stream_executor/platform/default/dso_loader.cc:48] Successfully opened dynamic library libcudart.so.10.1\n",
      "2024-08-13 09:46:32.042137: I tensorflow/stream_executor/platform/default/dso_loader.cc:48] Successfully opened dynamic library libcublas.so.10\n",
      "2024-08-13 09:46:32.042159: I tensorflow/stream_executor/platform/default/dso_loader.cc:48] Successfully opened dynamic library libcufft.so.10\n",
      "2024-08-13 09:46:32.042180: I tensorflow/stream_executor/platform/default/dso_loader.cc:48] Successfully opened dynamic library libcurand.so.10\n",
      "2024-08-13 09:46:32.042201: I tensorflow/stream_executor/platform/default/dso_loader.cc:48] Successfully opened dynamic library libcusolver.so.10\n",
      "2024-08-13 09:46:32.042222: I tensorflow/stream_executor/platform/default/dso_loader.cc:48] Successfully opened dynamic library libcusparse.so.10\n",
      "2024-08-13 09:46:32.042243: I tensorflow/stream_executor/platform/default/dso_loader.cc:48] Successfully opened dynamic library libcudnn.so.7\n",
      "2024-08-13 09:46:32.044947: I tensorflow/core/common_runtime/gpu/gpu_device.cc:1858] Adding visible gpu devices: 0\n",
      "2024-08-13 09:46:32.111619: I tensorflow/stream_executor/platform/default/dso_loader.cc:48] Successfully opened dynamic library libcudart.so.10.1\n",
      "2024-08-13 09:46:36.644869: I tensorflow/core/common_runtime/gpu/gpu_device.cc:1257] Device interconnect StreamExecutor with strength 1 edge matrix:\n",
      "2024-08-13 09:46:36.644932: I tensorflow/core/common_runtime/gpu/gpu_device.cc:1263]      0 \n",
      "2024-08-13 09:46:36.644948: I tensorflow/core/common_runtime/gpu/gpu_device.cc:1276] 0:   N \n",
      "2024-08-13 09:46:36.674343: I tensorflow/core/common_runtime/gpu/gpu_device.cc:1402] Created TensorFlow device (/job:localhost/replica:0/task:0/device:GPU:0 with 14765 MB memory) -> physical GPU (device: 0, name: NVIDIA Tesla V100-PCIE-16GB, pci bus id: 0000:86:00.0, compute capability: 7.0)\n"
     ]
    }
   ],
   "source": [
    "aux_model = create_aux_model()"
   ]
  },
  {
   "cell_type": "code",
   "execution_count": 8,
   "id": "fcb38279",
   "metadata": {},
   "outputs": [],
   "source": [
    "def create_discrim_model():\n",
    "    # 调整输入层的定义以匹配修改后的客户端模型的输出\n",
    "    input_layer = layers.Input(shape=(32, 32, 128))   # 注意这里的变化\n",
    "\n",
    "    # 第一个卷积层和ReLU激活\n",
    "    x = layers.Conv2D(128, 3, strides=2, padding='same')(input_layer)\n",
    "    x = layers.ReLU()(x)\n",
    "\n",
    "    # 第二个卷积层和ReLU激活\n",
    "    x = layers.Conv2D(128, 3, strides=2, padding='same')(x)\n",
    "    x = layers.ReLU()(x)\n",
    "\n",
    "    # 添加三个残差块\n",
    "    x = res_block(256, 1)(x)  # 使用第一个残差块\n",
    "    x = res_block(256, 1)(x)  # 使用第二个残差块\n",
    "    x = res_block(256, 1)(x)  # 使用第三个残差块\n",
    "\n",
    "    # 第三个卷积层和ReLU激活\n",
    "    x = layers.Conv2D(256, 3, strides=2, padding='same')(x)\n",
    "    x = layers.ReLU()(x)\n",
    "\n",
    "    # 全连接层，输出单一值\n",
    "    x = layers.Flatten()(x)\n",
    "    output = layers.Dense(1, activation='sigmoid')(x)\n",
    "    \n",
    "    model = models.Model(inputs=input_layer, outputs=output)\n",
    "    return model\n"
   ]
  },
  {
   "cell_type": "code",
   "execution_count": 9,
   "id": "f8144b1c",
   "metadata": {},
   "outputs": [],
   "source": [
    "discrim_model = create_discrim_model()"
   ]
  },
  {
   "cell_type": "code",
   "execution_count": 10,
   "id": "c4a970d4",
   "metadata": {},
   "outputs": [
    {
     "name": "stdout",
     "output_type": "stream",
     "text": [
      "Model: \"functional_3\"\n",
      "__________________________________________________________________________________________________\n",
      "Layer (type)                    Output Shape         Param #     Connected to                     \n",
      "==================================================================================================\n",
      "input_2 (InputLayer)            [(None, 32, 32, 128) 0                                            \n",
      "__________________________________________________________________________________________________\n",
      "conv2d_9 (Conv2D)               (None, 16, 16, 128)  147584      input_2[0][0]                    \n",
      "__________________________________________________________________________________________________\n",
      "re_lu_3 (ReLU)                  (None, 16, 16, 128)  0           conv2d_9[0][0]                   \n",
      "__________________________________________________________________________________________________\n",
      "conv2d_10 (Conv2D)              (None, 8, 8, 128)    147584      re_lu_3[0][0]                    \n",
      "__________________________________________________________________________________________________\n",
      "re_lu_4 (ReLU)                  (None, 8, 8, 128)    0           conv2d_10[0][0]                  \n",
      "__________________________________________________________________________________________________\n",
      "conv2d_11 (Conv2D)              (None, 8, 8, 256)    295168      re_lu_4[0][0]                    \n",
      "__________________________________________________________________________________________________\n",
      "batch_normalization_6 (BatchNor (None, 8, 8, 256)    1024        conv2d_11[0][0]                  \n",
      "__________________________________________________________________________________________________\n",
      "activation_4 (Activation)       (None, 8, 8, 256)    0           batch_normalization_6[0][0]      \n",
      "__________________________________________________________________________________________________\n",
      "conv2d_12 (Conv2D)              (None, 8, 8, 256)    590080      activation_4[0][0]               \n",
      "__________________________________________________________________________________________________\n",
      "conv2d_13 (Conv2D)              (None, 8, 8, 256)    33024       re_lu_4[0][0]                    \n",
      "__________________________________________________________________________________________________\n",
      "batch_normalization_7 (BatchNor (None, 8, 8, 256)    1024        conv2d_12[0][0]                  \n",
      "__________________________________________________________________________________________________\n",
      "batch_normalization_8 (BatchNor (None, 8, 8, 256)    1024        conv2d_13[0][0]                  \n",
      "__________________________________________________________________________________________________\n",
      "add_2 (Add)                     (None, 8, 8, 256)    0           batch_normalization_7[0][0]      \n",
      "                                                                 batch_normalization_8[0][0]      \n",
      "__________________________________________________________________________________________________\n",
      "activation_5 (Activation)       (None, 8, 8, 256)    0           add_2[0][0]                      \n",
      "__________________________________________________________________________________________________\n",
      "conv2d_14 (Conv2D)              (None, 8, 8, 256)    590080      activation_5[0][0]               \n",
      "__________________________________________________________________________________________________\n",
      "batch_normalization_9 (BatchNor (None, 8, 8, 256)    1024        conv2d_14[0][0]                  \n",
      "__________________________________________________________________________________________________\n",
      "activation_6 (Activation)       (None, 8, 8, 256)    0           batch_normalization_9[0][0]      \n",
      "__________________________________________________________________________________________________\n",
      "conv2d_15 (Conv2D)              (None, 8, 8, 256)    590080      activation_6[0][0]               \n",
      "__________________________________________________________________________________________________\n",
      "conv2d_16 (Conv2D)              (None, 8, 8, 256)    65792       activation_5[0][0]               \n",
      "__________________________________________________________________________________________________\n",
      "batch_normalization_10 (BatchNo (None, 8, 8, 256)    1024        conv2d_15[0][0]                  \n",
      "__________________________________________________________________________________________________\n",
      "batch_normalization_11 (BatchNo (None, 8, 8, 256)    1024        conv2d_16[0][0]                  \n",
      "__________________________________________________________________________________________________\n",
      "add_3 (Add)                     (None, 8, 8, 256)    0           batch_normalization_10[0][0]     \n",
      "                                                                 batch_normalization_11[0][0]     \n",
      "__________________________________________________________________________________________________\n",
      "activation_7 (Activation)       (None, 8, 8, 256)    0           add_3[0][0]                      \n",
      "__________________________________________________________________________________________________\n",
      "conv2d_17 (Conv2D)              (None, 8, 8, 256)    590080      activation_7[0][0]               \n",
      "__________________________________________________________________________________________________\n",
      "batch_normalization_12 (BatchNo (None, 8, 8, 256)    1024        conv2d_17[0][0]                  \n",
      "__________________________________________________________________________________________________\n",
      "activation_8 (Activation)       (None, 8, 8, 256)    0           batch_normalization_12[0][0]     \n",
      "__________________________________________________________________________________________________\n",
      "conv2d_18 (Conv2D)              (None, 8, 8, 256)    590080      activation_8[0][0]               \n",
      "__________________________________________________________________________________________________\n",
      "conv2d_19 (Conv2D)              (None, 8, 8, 256)    65792       activation_7[0][0]               \n",
      "__________________________________________________________________________________________________\n",
      "batch_normalization_13 (BatchNo (None, 8, 8, 256)    1024        conv2d_18[0][0]                  \n",
      "__________________________________________________________________________________________________\n",
      "batch_normalization_14 (BatchNo (None, 8, 8, 256)    1024        conv2d_19[0][0]                  \n",
      "__________________________________________________________________________________________________\n",
      "add_4 (Add)                     (None, 8, 8, 256)    0           batch_normalization_13[0][0]     \n",
      "                                                                 batch_normalization_14[0][0]     \n",
      "__________________________________________________________________________________________________\n",
      "activation_9 (Activation)       (None, 8, 8, 256)    0           add_4[0][0]                      \n",
      "__________________________________________________________________________________________________\n",
      "conv2d_20 (Conv2D)              (None, 4, 4, 256)    590080      activation_9[0][0]               \n",
      "__________________________________________________________________________________________________\n",
      "re_lu_5 (ReLU)                  (None, 4, 4, 256)    0           conv2d_20[0][0]                  \n",
      "__________________________________________________________________________________________________\n",
      "flatten_1 (Flatten)             (None, 4096)         0           re_lu_5[0][0]                    \n",
      "__________________________________________________________________________________________________\n",
      "dense_1 (Dense)                 (None, 1)            4097        flatten_1[0][0]                  \n",
      "==================================================================================================\n",
      "Total params: 4,308,737\n",
      "Trainable params: 4,304,129\n",
      "Non-trainable params: 4,608\n",
      "__________________________________________________________________________________________________\n"
     ]
    }
   ],
   "source": [
    "discrim_model.summary()"
   ]
  },
  {
   "cell_type": "code",
   "execution_count": 11,
   "id": "63d99eb6",
   "metadata": {},
   "outputs": [],
   "source": [
    "server_model = create_server_model()"
   ]
  },
  {
   "cell_type": "code",
   "execution_count": 12,
   "id": "c0da67c5",
   "metadata": {},
   "outputs": [],
   "source": [
    "# 创建客户端模型\n",
    "client_model = create_client_model(input_shape=(32, 32, 3))\n",
    "\n",
    "# 编译客户端模型\n",
    "client_model.compile(optimizer=Adam(),\n",
    "                     loss='categorical_crossentropy',\n",
    "                     metrics=['accuracy'])\n"
   ]
  },
  {
   "cell_type": "code",
   "execution_count": null,
   "id": "cd40b3df",
   "metadata": {},
   "outputs": [],
   "source": []
  },
  {
   "cell_type": "code",
   "execution_count": null,
   "id": "25355bba",
   "metadata": {},
   "outputs": [],
   "source": []
  },
  {
   "cell_type": "code",
   "execution_count": 13,
   "id": "58701325",
   "metadata": {},
   "outputs": [],
   "source": [
    "# 以下是服务器模型训练的简化示例\n",
    "server_model.compile(optimizer=Adam(),\n",
    "                      loss='categorical_crossentropy',\n",
    "                      metrics=['accuracy'])\n",
    "discrim_model.compile(optimizer=Adam(),\n",
    "                      loss='categorical_crossentropy',\n",
    "                      metrics=['accuracy'])\n",
    "aux_model.compile(optimizer=Adam(),\n",
    "                      loss='categorical_crossentropy',\n",
    "                      metrics=['accuracy'])\n"
   ]
  },
  {
   "cell_type": "code",
   "execution_count": 14,
   "id": "ef10f364",
   "metadata": {},
   "outputs": [],
   "source": [
    "##创建三个影子模型，分别是1层卷积，2层卷积核3层卷积\n"
   ]
  },
  {
   "cell_type": "code",
   "execution_count": 15,
   "id": "46c01c46",
   "metadata": {},
   "outputs": [],
   "source": [
    "def create_client_model_1(input_shape):\n",
    "    input_layer = layers.Input(shape=input_shape)\n",
    "    # 确保输出为128个通道\n",
    "    x = layers.Conv2D(128, (3, 3), padding='same', activation='relu')(input_layer)\n",
    "    model = models.Model(inputs=input_layer, outputs=x)\n",
    "    return model\n",
    "def create_client_model_2(input_shape):\n",
    "    input_layer = layers.Input(shape=input_shape)\n",
    "    x = layers.Conv2D(64, (3, 3), padding='same', activation='relu')(input_layer)\n",
    "    # 第二层输出调整为128个通道\n",
    "    x = layers.Conv2D(128, (3, 3), padding='same', activation='relu')(x)\n",
    "    model = models.Model(inputs=input_layer, outputs=x)\n",
    "    return model\n",
    "def create_client_model_3(input_shape):\n",
    "    input_layer = layers.Input(shape=input_shape)\n",
    "    x = layers.Conv2D(32, (3, 3), padding='same', activation='relu')(input_layer)\n",
    "    x = layers.Conv2D(64, (3, 3), padding='same', activation='relu')(x)\n",
    "    x = layers.Conv2D(128, (3, 3), padding='same')(x)  # 移除这里的激活函数\n",
    "    x = layers.Activation('relu')(x)  # 显式添加ReLU激活层\n",
    "    model = models.Model(inputs=input_layer, outputs=x)\n",
    "    return model\n",
    "\n",
    "def create_client_model_4(input_shape):\n",
    "    input_layer = layers.Input(shape=input_shape)\n",
    "    x = layers.Conv2D(32, (3, 3), padding='same', activation='relu')(input_layer)\n",
    "    x = layers.Conv2D(64, (3, 3), padding='same', activation='relu')(x)\n",
    "    x = layers.Conv2D(64, (3, 3), padding='same', activation='relu')(x)\n",
    "    # 第四层输出调整为128个通道\n",
    "    x = layers.Conv2D(128, (3, 3), padding='same', activation='relu')(x)\n",
    "    model = models.Model(inputs=input_layer, outputs=x)\n",
    "    return model\n"
   ]
  },
  {
   "cell_type": "code",
   "execution_count": 16,
   "id": "2e04b708",
   "metadata": {},
   "outputs": [],
   "source": [
    "# Assuming TensorFlow is installed and the functions are defined in your script\n",
    "input_shape = (32, 32, 3)\n",
    "\n",
    "client_model_1 = create_client_model(input_shape=(32, 32, 3))"
   ]
  },
  {
   "cell_type": "code",
   "execution_count": 17,
   "id": "5a4d264a",
   "metadata": {},
   "outputs": [],
   "source": [
    "from tensorflow.keras.preprocessing.image import ImageDataGenerator\n"
   ]
  },
  {
   "cell_type": "code",
   "execution_count": 18,
   "id": "656888c8",
   "metadata": {},
   "outputs": [
    {
     "name": "stderr",
     "output_type": "stream",
     "text": [
      "2024-08-13 09:46:44.253429: W tensorflow/core/framework/cpu_allocator_impl.cc:81] Allocation of 491520000 exceeds 10% of free system memory.\n"
     ]
    }
   ],
   "source": [
    "import tensorflow as tf\n",
    "from tensorflow.keras import layers, models, optimizers\n",
    "\n",
    "# 定义优化器\n",
    "# 定义第一部分的数据集\n",
    "def augment(image, label):\n",
    "    image = tf.image.random_flip_left_right(image)\n",
    "    image = tf.image.random_brightness(image, max_delta=0.1)\n",
    "    return image, label\n",
    "\n",
    "train_dataset = tf.data.Dataset.from_tensor_slices((x_train, y_train))\n",
    "train_dataset = train_dataset.map(augment).shuffle(len(x_train)).batch(32)\n",
    "\n",
    "# 定义第二部分的数据集\n",
    "def preprocess(image, label1, label2):\n",
    "    image = tf.image.random_flip_left_right(image)\n",
    "    image = tf.image.random_brightness(image, max_delta=0.1)\n",
    "    return image, (label1, label2)\n",
    "\n",
    "train_dataset_2 = tf.data.Dataset.from_tensor_slices((x_val_tigger, y_val_tigger_2, y_val_tigger))\n",
    "train_dataset_2 = train_dataset_2.map(preprocess)\n",
    "train_dataset_2 = train_dataset_2.batch(32)\n",
    "train_dataset_2 = train_dataset_2.repeat()\n",
    "\n",
    "# 创建数据集\n",
    "\n"
   ]
  },
  {
   "cell_type": "code",
   "execution_count": 19,
   "id": "42dc6e7c",
   "metadata": {},
   "outputs": [],
   "source": [
    "import tensorflow as tf\n",
    "from tensorflow.keras import layers, models\n",
    "\n",
    "# 假设 client_model_1, server_model, aux_model 已经被正确定义和初始化\n",
    "# 定义优化器\n",
    "\n",
    "optimizer_client = tf.keras.optimizers.Adam()\n",
    "optimizer_client_1 = tf.keras.optimizers.Adam()\n",
    "optimizer_server = tf.keras.optimizers.Adam()\n",
    "loss_fn = tf.keras.losses.CategoricalCrossentropy()\n",
    "\n",
    "\n",
    "@tf.function\n",
    "def train_step_client(x, y):\n",
    "    with tf.GradientTape() as tape_client, tf.GradientTape() as tape_server:\n",
    "        client_outputs = client_model(x, training=True)\n",
    "        server_logits = server_model(client_outputs, training=True)\n",
    "        loss = loss_fn(y, server_logits)\n",
    "    \n",
    "    grads_server = tape_server.gradient(loss, server_model.trainable_variables)\n",
    "    optimizer_server.apply_gradients(zip(grads_server, server_model.trainable_variables))\n",
    "    \n",
    "    grads_client = tape_client.gradient(loss, client_model.trainable_variables)\n",
    "    optimizer_client.apply_gradients(zip(grads_client, client_model.trainable_variables))\n",
    "\n",
    "    return tf.reduce_mean(loss)\n",
    "\n",
    "@tf.function\n",
    "def train_step_combined(x, y):\n",
    "    with tf.GradientTape() as tape:\n",
    "        aux_output, server_output = combined_model(x, training=True)\n",
    "        loss_aux = tf.keras.losses.categorical_crossentropy(y[0], aux_output)\n",
    "        loss_server = tf.keras.losses.categorical_crossentropy(y[1], server_output)\n",
    "        loss = 0.5 * loss_aux + 0.5 * loss_server\n",
    "    \n",
    "    grads = tape.gradient(loss, combined_model.trainable_variables)\n",
    "    optimizer_client_1.apply_gradients(zip(grads, combined_model.trainable_variables))\n",
    "    \n",
    "    return tf.reduce_mean(loss)\n",
    "\n",
    "# 冻结 server_model 的所有层\n",
    "def freeze_server_model():\n",
    "    for layer in server_model.layers:\n",
    "        layer.trainable = False\n",
    "\n",
    "# 取消冻结 server_model 的所有层\n",
    "def unfreeze_server_model():\n",
    "    for layer in server_model.layers:\n",
    "        layer.trainable = True\n",
    "\n",
    "        \n",
    "        \n",
    "        \n",
    "# 获取 client_model_1 的输出，作为其他两个模型的输入\n",
    "feature_output = client_model_1.output\n",
    "\n",
    "# 用 client_model_1 的输出作为输入创建两个任务的模型\n",
    "server_output = server_model(feature_output)\n",
    "aux_output = aux_model(feature_output)\n",
    "\n",
    "combined_model = models.Model(inputs=client_model_1.input, outputs=[aux_output, server_output])\n",
    "combined_model.compile(optimizer='adam',\n",
    "                       loss=['categorical_crossentropy', 'categorical_crossentropy'],\n",
    "                       metrics=['accuracy'])\n"
   ]
  },
  {
   "cell_type": "code",
   "execution_count": null,
   "id": "25edd2bf",
   "metadata": {},
   "outputs": [],
   "source": []
  },
  {
   "cell_type": "code",
   "execution_count": null,
   "id": "2aaed15a",
   "metadata": {},
   "outputs": [],
   "source": []
  },
  {
   "cell_type": "code",
   "execution_count": null,
   "id": "5924d99a",
   "metadata": {},
   "outputs": [],
   "source": []
  },
  {
   "cell_type": "code",
   "execution_count": 20,
   "id": "d87f3917",
   "metadata": {},
   "outputs": [
    {
     "name": "stderr",
     "output_type": "stream",
     "text": [
      "2024-08-13 09:46:47.863354: W tensorflow/core/framework/cpu_allocator_impl.cc:81] Allocation of 491520000 exceeds 10% of free system memory.\n",
      "2024-08-13 09:47:03.059394: I tensorflow/stream_executor/platform/default/dso_loader.cc:48] Successfully opened dynamic library libcublas.so.10\n",
      "2024-08-13 09:47:07.084112: I tensorflow/stream_executor/platform/default/dso_loader.cc:48] Successfully opened dynamic library libcudnn.so.7\n",
      "2024-08-13 09:47:29.324114: W tensorflow/stream_executor/gpu/asm_compiler.cc:81] Running ptxas --version returned 256\n",
      "2024-08-13 09:47:29.575265: W tensorflow/stream_executor/gpu/redzone_allocator.cc:314] Internal: ptxas exited with non-zero error code 256, output: \n",
      "Relying on driver to perform ptx compilation. \n",
      "Modify $PATH to customize ptxas location.\n",
      "This message will be only logged once.\n"
     ]
    },
    {
     "name": "stdout",
     "output_type": "stream",
     "text": [
      "Epoch 1, Client Model Loss: 0.8780\n",
      "Epoch 1 completed.\n"
     ]
    },
    {
     "name": "stderr",
     "output_type": "stream",
     "text": [
      "2024-08-13 10:02:42.285601: W tensorflow/core/framework/cpu_allocator_impl.cc:81] Allocation of 491520000 exceeds 10% of free system memory.\n",
      "2024-08-13 10:03:11.796981: I tensorflow/core/kernels/data/shuffle_dataset_op.cc:172] Filling up shuffle buffer (this may take a while): 0 of 40000\n",
      "2024-08-13 10:03:17.053390: I tensorflow/core/kernels/data/shuffle_dataset_op.cc:172] Filling up shuffle buffer (this may take a while): 28271 of 40000\n",
      "2024-08-13 10:03:19.145932: I tensorflow/core/kernels/data/shuffle_dataset_op.cc:221] Shuffle buffer filled.\n"
     ]
    },
    {
     "name": "stdout",
     "output_type": "stream",
     "text": [
      "Epoch 2, Client Model Loss: 0.6170\n",
      "Epoch 2 completed.\n"
     ]
    },
    {
     "name": "stderr",
     "output_type": "stream",
     "text": [
      "2024-08-13 10:04:01.986803: W tensorflow/core/framework/cpu_allocator_impl.cc:81] Allocation of 491520000 exceeds 10% of free system memory.\n"
     ]
    },
    {
     "name": "stdout",
     "output_type": "stream",
     "text": [
      "Epoch 3, Client Model Loss: 0.8620\n",
      "Epoch 3 completed.\n"
     ]
    },
    {
     "name": "stderr",
     "output_type": "stream",
     "text": [
      "2024-08-13 10:04:51.458753: W tensorflow/core/framework/cpu_allocator_impl.cc:81] Allocation of 491520000 exceeds 10% of free system memory.\n"
     ]
    },
    {
     "name": "stdout",
     "output_type": "stream",
     "text": [
      "Epoch 4, Client Model Loss: 0.5941\n",
      "Epoch 4 completed.\n",
      "Epoch 5, Client Model Loss: 0.4887\n",
      "Epoch 5 completed.\n",
      "Epoch 6, Client Model Loss: 0.4237\n",
      "Epoch 6 completed.\n",
      "Epoch 7, Client Model Loss: 0.3177\n",
      "Epoch 7 completed.\n",
      "Epoch 8, Client Model Loss: 0.4315\n",
      "Epoch 8 completed.\n",
      "Epoch 9, Client Model Loss: 0.2668\n",
      "Epoch 9 completed.\n",
      "Epoch 10, Client Model Loss: 0.4441\n",
      "Epoch 10 completed.\n",
      "Epoch 11, Client Model Loss: 0.0493\n",
      "Epoch 11 completed.\n",
      "Epoch 12, Client Model Loss: 0.1557\n",
      "Epoch 12 completed.\n",
      "Epoch 13, Client Model Loss: 0.0500\n",
      "Epoch 13 completed.\n",
      "Epoch 14, Client Model Loss: 0.0213\n",
      "Epoch 14 completed.\n",
      "Epoch 15, Client Model Loss: 0.0280\n",
      "Epoch 15 completed.\n"
     ]
    }
   ],
   "source": [
    "epochs = 15\n",
    "steps_per_epoch = len(x_train) // 32\n",
    "\n",
    "for epoch in range(epochs):\n",
    "    # 先训练第一部分模型\n",
    "    unfreeze_server_model()  # 取消冻结 server_model\n",
    "    for x_batch, y_batch in train_dataset:\n",
    "        loss_client = train_step_client(x_batch, y_batch)\n",
    "    print(f\"Epoch {epoch + 1}, Client Model Loss: {loss_client.numpy():.4f}\")\n",
    "\n",
    "    # 冻结 server_model 并训练组合模型\n",
    "    freeze_server_model()  # 冻结 server_model\n",
    "    for step, (x_batch, (y_batch_aux, y_batch_server)) in enumerate(train_dataset_2.take(steps_per_epoch)):\n",
    "        loss_combined = train_step_combined(x_batch, (y_batch_aux, y_batch_server))\n",
    "\n",
    "    unfreeze_server_model()  # 解冻 server_model\n",
    "    print(f\"Epoch {epoch + 1} completed.\")"
   ]
  },
  {
   "cell_type": "code",
   "execution_count": 21,
   "id": "1b3a9665",
   "metadata": {},
   "outputs": [],
   "source": [
    "@tf.function\n",
    "def train_step_combined_2(x, y):\n",
    "    with tf.GradientTape() as tape:\n",
    "        aux_output, server_output = combined_model(x, training=True)\n",
    "        loss_aux = tf.keras.losses.categorical_crossentropy(y[0], aux_output)\n",
    "        loss_server = tf.keras.losses.categorical_crossentropy(y[1], server_output)\n",
    "        loss = 0.5 * loss_aux + 0.5 * loss_server\n",
    "    \n",
    "    grads = tape.gradient(loss, combined_model.trainable_variables)\n",
    "    optimizer_fine_tune.apply_gradients(zip(grads, combined_model.trainable_variables))\n",
    "    \n",
    "    return tf.reduce_mean(loss)"
   ]
  },
  {
   "cell_type": "code",
   "execution_count": null,
   "id": "f6f74e51",
   "metadata": {},
   "outputs": [],
   "source": []
  },
  {
   "cell_type": "code",
   "execution_count": null,
   "id": "ecdf6a81",
   "metadata": {},
   "outputs": [],
   "source": []
  },
  {
   "cell_type": "code",
   "execution_count": null,
   "id": "2739124e",
   "metadata": {},
   "outputs": [],
   "source": []
  },
  {
   "cell_type": "code",
   "execution_count": 22,
   "id": "71949a28",
   "metadata": {},
   "outputs": [],
   "source": [
    "###可以看到训练精度还是蛮高的，但是测试精度不理想。过拟合了"
   ]
  },
  {
   "cell_type": "code",
   "execution_count": null,
   "id": "250feae6",
   "metadata": {},
   "outputs": [],
   "source": [
    "\n"
   ]
  },
  {
   "cell_type": "code",
   "execution_count": null,
   "id": "bd39f5a6",
   "metadata": {},
   "outputs": [],
   "source": []
  },
  {
   "cell_type": "code",
   "execution_count": null,
   "id": "565f3482",
   "metadata": {},
   "outputs": [],
   "source": []
  },
  {
   "cell_type": "code",
   "execution_count": 23,
   "id": "c7fa861e",
   "metadata": {},
   "outputs": [],
   "source": [
    "from tensorflow.keras.models import Model\n",
    "def create_combined_model(client_model, server_model, compile_only=False):\n",
    "    # Getting the input of the client model\n",
    "    client_input = client_model.input\n",
    "    \n",
    "    # Getting the intermediate output by passing the input through the client model\n",
    "    client_output = client_model(client_input)\n",
    "    \n",
    "    # The client model's output is used as the input for the server model\n",
    "    server_output = server_model(client_output)\n",
    "    \n",
    "    # Defining a new model that chains the client and server models\n",
    "    combined_model = Model(inputs=client_input, outputs=server_output)\n",
    "    \n",
    "    # Compile the combined model\n",
    "    combined_model.compile(optimizer=Adam(),\n",
    "                           loss='categorical_crossentropy',\n",
    "                           metrics=['accuracy'])\n",
    "    \n",
    "    if not compile_only:\n",
    "        # If not compile_only, evaluate the model\n",
    "        loss, accuracy = combined_model.evaluate(x_test, y_test, verbose=0)\n",
    "        print(f\"Test loss: {loss}, Test accuracy: {accuracy}\")\n",
    "    \n",
    "    return combined_model\n",
    "combined_model_mian = create_combined_model(client_model_1, server_model, compile_only=True)\n",
    "combined_model_aux = create_combined_model(client_model_1, aux_model, compile_only=True)\n",
    "\n",
    "combined_model_client = create_combined_model(client_model, server_model, compile_only=True)\n"
   ]
  },
  {
   "cell_type": "code",
   "execution_count": 24,
   "id": "b0ec6217",
   "metadata": {},
   "outputs": [
    {
     "name": "stdout",
     "output_type": "stream",
     "text": [
      "313/313 [==============================] - 2s 7ms/step - loss: 0.3086 - accuracy: 0.8923\n"
     ]
    }
   ],
   "source": [
    "loss, accuracy = combined_model_mian.evaluate(x_val_tigger, y_val_tigger, verbose=1)\n",
    "##数据集太小会导致过拟合，因此 - loss: 1.7600e-07 - accuracy: 1.0000"
   ]
  },
  {
   "cell_type": "code",
   "execution_count": 25,
   "id": "e5369f4f",
   "metadata": {},
   "outputs": [
    {
     "name": "stdout",
     "output_type": "stream",
     "text": [
      "313/313 [==============================] - 2s 7ms/step - loss: 3.7046e-04 - accuracy: 0.9999\n"
     ]
    }
   ],
   "source": [
    "loss, accuracy = combined_model_aux.evaluate(x_val_tigger, y_val_tigger_2, verbose=1)\n",
    "#0.9证明全部归为了1。 数据集不均衡，会导致二分类器没办法使用，这里也是一个bug"
   ]
  },
  {
   "cell_type": "code",
   "execution_count": 26,
   "id": "f16fb272",
   "metadata": {},
   "outputs": [
    {
     "name": "stdout",
     "output_type": "stream",
     "text": [
      "313/313 [==============================] - 2s 7ms/step - loss: 0.7015 - accuracy: 0.7873\n"
     ]
    }
   ],
   "source": [
    "loss, accuracy = combined_model_mian.evaluate(x_test, y_test, verbose=1)\n",
    "##因为数据集比较小，因此精度会比客户端小很多，正常"
   ]
  },
  {
   "cell_type": "code",
   "execution_count": 27,
   "id": "1520d6b9",
   "metadata": {},
   "outputs": [
    {
     "name": "stdout",
     "output_type": "stream",
     "text": [
      "313/313 [==============================] - 2s 6ms/step - loss: 0.2470 - accuracy: 0.9490\n"
     ]
    }
   ],
   "source": [
    "loss, accuracy = combined_model_mian.evaluate(x_test_tigger, y_test_tigger, verbose=1) \n",
    "##后门成功率很高。8221，微调后"
   ]
  },
  {
   "cell_type": "code",
   "execution_count": 28,
   "id": "925fa26c",
   "metadata": {},
   "outputs": [
    {
     "name": "stdout",
     "output_type": "stream",
     "text": [
      "313/313 [==============================] - 2s 7ms/step - loss: 0.6376 - accuracy: 0.8297\n"
     ]
    }
   ],
   "source": [
    "loss, accuracy = combined_model_client.evaluate(x_test, y_test, verbose=1) \n",
    "##后门成功率很高。8221，微调后"
   ]
  },
  {
   "cell_type": "code",
   "execution_count": 29,
   "id": "d2e6ef72",
   "metadata": {},
   "outputs": [
    {
     "name": "stdout",
     "output_type": "stream",
     "text": [
      "313/313 [==============================] - 2s 7ms/step - loss: 13.4839 - accuracy: 0.0926\n"
     ]
    }
   ],
   "source": [
    "loss, accuracy = combined_model_client.evaluate(x_test_tigger, y_test_tigger, verbose=1) \n",
    "##后门成功率很高。8221，微调后"
   ]
  },
  {
   "cell_type": "code",
   "execution_count": 30,
   "id": "57eb6b82",
   "metadata": {},
   "outputs": [],
   "source": [
    "\n",
    "# 假设你有一个已训练的模型\n",
    "client_model_1.save('my_client_model_1.h5')\n",
    "server_model.save('my_server_modell.h5')\n",
    "client_model.save('my_client_model.h5')"
   ]
  },
  {
   "cell_type": "code",
   "execution_count": null,
   "id": "ff9f205e",
   "metadata": {},
   "outputs": [],
   "source": []
  },
  {
   "cell_type": "code",
   "execution_count": null,
   "id": "614e341d",
   "metadata": {},
   "outputs": [],
   "source": []
  },
  {
   "cell_type": "code",
   "execution_count": null,
   "id": "87a7464f",
   "metadata": {},
   "outputs": [],
   "source": []
  },
  {
   "cell_type": "code",
   "execution_count": null,
   "id": "e1764e8d",
   "metadata": {},
   "outputs": [],
   "source": []
  },
  {
   "cell_type": "code",
   "execution_count": 31,
   "id": "2f74aa8e",
   "metadata": {},
   "outputs": [],
   "source": [
    "import tensorflow as tf\n",
    "from tensorflow.keras.models import load_model\n",
    "from tensorflow.keras.optimizers import Adam\n",
    "import numpy as np\n",
    "from tensorflow.keras import layers, models, optimizers, losses\n",
    "# 冻结 client_model_1 的参数\n",
    "# 定义优化器\n",
    "# 冻结 client_model_1 的参数\n",
    "# 冻结 client_model_1 的参数\n",
    "client_model_1.trainable = False\n",
    "\n",
    "# 定义优化器\n",
    "# 示例梯度裁剪\n",
    "discriminator_optimizer = optimizers.SGD(lr=0.01, momentum=0.9)\n",
    "generator_optimizer = optimizers.SGD(lr=0.01, momentum=0.9)\n",
    "optimizer_client_1 = tf.keras.optimizers.SGD(learning_rate=0.01, momentum=0.9)\n",
    "# 定义损失函数\n",
    "bce = losses.BinaryCrossentropy(from_logits=False)\n",
    "\n",
    "\n",
    "# 定义损失函数\n",
    "def discriminator_loss(Zs, Zc):\n",
    "    real_output = discrim_model(Zs)\n",
    "    fake_output = discrim_model(Zc)\n",
    "    epsilon = 1e-8  # 避免log(0)\n",
    "    real_loss = -tf.reduce_mean(tf.math.log(1. - real_output + epsilon))\n",
    "    fake_loss = -tf.reduce_mean(tf.math.log(fake_output + epsilon))\n",
    "    total_loss = real_loss + fake_loss\n",
    "    return total_loss\n",
    "\n",
    "def generator_loss(Zc):\n",
    "    fake_output = discrim_model(Zc)\n",
    "    epsilon = 1e-8  # 避免log(0)\n",
    "    gen_loss = -tf.reduce_mean(tf.math.log(1. - fake_output + epsilon))\n",
    "    return gen_loss\n",
    "# Dc 和 Ds 分别是你的两个输入数据集\n",
    "# 示例数据加载\n",
    "Dc = x_train[:10000]  # CIFAR-10 数据，已预处理为适合模型输入\n",
    "Yc = y_train[:10000]  # CIFAR-10 标签，已转换为 one-hot 编码\n",
    "Ds = x_val_tigger  # CIFAR-10 数据，已预处理为适合模型输入\n",
    "\n",
    "# 训练循环\n",
    "\n",
    "@tf.function\n",
    "@tf.function\n",
    "def train_step_client(x, y):\n",
    "    # 仅针对client_model_1的训练步骤\n",
    "    with tf.GradientTape() as tape_client:\n",
    "        # client_model_1前向传播\n",
    "        client_outputs = client_model(x, training=True)\n",
    "        # 使用server_model进行前向传播但不更新\n",
    "        server_logits = server_model(client_outputs, training=False)\n",
    "        # 计算损失\n",
    "        loss_1 = loss_fn(y, server_logits)\n",
    "\n",
    "    # 计算并应用client_model_1的梯度\n",
    "    grads_client = tape_client.gradient(loss_1, client_model.trainable_variables)\n",
    "    optimizer_client_1.apply_gradients(zip(grads_client, client_model.trainable_variables))\n",
    "\n",
    "    return loss_1\n",
    "loss_fn = tf.keras.losses.CategoricalCrossentropy()"
   ]
  },
  {
   "cell_type": "code",
   "execution_count": 32,
   "id": "84ace737",
   "metadata": {},
   "outputs": [],
   "source": [
    "from torch.utils.data import DataLoader\n",
    "from itertools import cycle"
   ]
  },
  {
   "cell_type": "code",
   "execution_count": 33,
   "id": "88f58de5",
   "metadata": {},
   "outputs": [],
   "source": [
    "def augment(image, label):\n",
    "    # 随机水平翻转图像\n",
    "    image = tf.image.random_flip_left_right(image)\n",
    "    # 随机调整亮度\n",
    "    image = tf.image.random_brightness(image, max_delta=0.1)\n",
    "    # 确保图像值仍然在0到1的范围内\n",
    "    image = tf.clip_by_value(image, 0.0, 1.0)\n",
    "    return image, label"
   ]
  },
  {
   "cell_type": "code",
   "execution_count": 34,
   "id": "c64479ae",
   "metadata": {},
   "outputs": [],
   "source": [
    "#前面结果都挺正常，为什么这里出了问题。\n",
    "#训练前的精度都很高，但是重新拟合一下精度倒低了，但是期刊的精度还可以。"
   ]
  },
  {
   "cell_type": "code",
   "execution_count": 35,
   "id": "31c1fd1c",
   "metadata": {},
   "outputs": [
    {
     "name": "stdout",
     "output_type": "stream",
     "text": [
      "Batch 157: Real output: 0.0, Fake output: 0.0\n",
      "Epoch 1/15, Discriminator Loss: 18.42068099975586, Generator Loss: -0.0\n",
      "Epoch: 0, Batch: 9984, Loss: 0.0471\n",
      "Batch 157: Real output: 0.0, Fake output: 0.0\n",
      "Epoch 2/15, Discriminator Loss: 18.42068099975586, Generator Loss: -0.0\n",
      "Epoch: 1, Batch: 9984, Loss: 0.0262\n",
      "Batch 157: Real output: 0.0, Fake output: 0.0\n",
      "Epoch 3/15, Discriminator Loss: 18.42068099975586, Generator Loss: -0.0\n",
      "Epoch: 2, Batch: 9984, Loss: 0.0217\n",
      "Batch 157: Real output: 0.0, Fake output: 0.0\n",
      "Epoch 4/15, Discriminator Loss: 18.42068099975586, Generator Loss: -0.0\n",
      "Epoch: 3, Batch: 9984, Loss: 0.0188\n",
      "Batch 157: Real output: 0.0, Fake output: 0.0\n",
      "Epoch 5/15, Discriminator Loss: 18.42068099975586, Generator Loss: -0.0\n",
      "Epoch: 4, Batch: 9984, Loss: 0.0167\n",
      "Batch 157: Real output: 0.0, Fake output: 0.0\n",
      "Epoch 6/15, Discriminator Loss: 18.42068099975586, Generator Loss: -0.0\n",
      "Epoch: 5, Batch: 9984, Loss: 0.0166\n",
      "Batch 157: Real output: 0.0, Fake output: 0.0\n",
      "Epoch 7/15, Discriminator Loss: 18.42068099975586, Generator Loss: -0.0\n",
      "Epoch: 6, Batch: 9984, Loss: 0.0143\n",
      "Batch 157: Real output: 0.0, Fake output: 0.0\n",
      "Epoch 8/15, Discriminator Loss: 18.42068099975586, Generator Loss: -0.0\n",
      "Epoch: 7, Batch: 9984, Loss: 0.0142\n",
      "Batch 157: Real output: 0.0, Fake output: 0.0\n",
      "Epoch 9/15, Discriminator Loss: 18.42068099975586, Generator Loss: -0.0\n",
      "Epoch: 8, Batch: 9984, Loss: 0.0130\n",
      "Batch 157: Real output: 0.0, Fake output: 0.0\n",
      "Epoch 10/15, Discriminator Loss: 18.42068099975586, Generator Loss: -0.0\n",
      "Epoch: 9, Batch: 9984, Loss: 0.0121\n",
      "Batch 157: Real output: 0.0, Fake output: 0.0\n",
      "Epoch 11/15, Discriminator Loss: 18.42068099975586, Generator Loss: -0.0\n",
      "Epoch: 10, Batch: 9984, Loss: 0.0118\n",
      "Batch 157: Real output: 0.0, Fake output: 0.0\n",
      "Epoch 12/15, Discriminator Loss: 18.42068099975586, Generator Loss: -0.0\n",
      "Epoch: 11, Batch: 9984, Loss: 0.0101\n",
      "Batch 157: Real output: 0.0, Fake output: 0.0\n",
      "Epoch 13/15, Discriminator Loss: 18.42068099975586, Generator Loss: -0.0\n",
      "Epoch: 12, Batch: 9984, Loss: 0.0095\n",
      "Batch 157: Real output: 0.0, Fake output: 0.0\n",
      "Epoch 14/15, Discriminator Loss: 18.42068099975586, Generator Loss: -0.0\n",
      "Epoch: 13, Batch: 9984, Loss: 0.0085\n",
      "Batch 157: Real output: 0.0, Fake output: 0.0\n",
      "Epoch 15/15, Discriminator Loss: 18.42068099975586, Generator Loss: -0.0\n",
      "Epoch: 14, Batch: 9984, Loss: 0.0077\n"
     ]
    }
   ],
   "source": [
    "\n",
    "\n",
    "epochs =  15\n",
    "batch_size = 64\n",
    "for epoch in range(epochs):\n",
    "    for batch in range(0, len(Dc), batch_size):\n",
    "        Dc_batch = Dc[batch:batch+batch_size]\n",
    "        Ds_batch = Ds[batch:batch+batch_size]      \n",
    "        # 生成器生成输出\n",
    "        Zc = client_model(Dc_batch)\n",
    "        Zs = client_model_1(Ds_batch)\n",
    "        # 打印模型输出值\n",
    "        real_output = discrim_model(Zs)\n",
    "        fake_output = discrim_model(Zc)\n",
    "        # 鉴别器的损失计算和优化\n",
    "        with tf.GradientTape() as disc_tape:\n",
    "            disc_loss = discriminator_loss(Zs, Zc)\n",
    "        disc_grads = disc_tape.gradient(disc_loss, discrim_model.trainable_variables)\n",
    "        discriminator_optimizer.apply_gradients(zip(disc_grads, discrim_model.trainable_variables))\n",
    "\n",
    "        # 生成器的损失计算和优化\n",
    "        with tf.GradientTape() as gen_tape:\n",
    "            Zc = client_model(Dc_batch)  # 重新生成 Zc\n",
    "            gen_loss = generator_loss(Zc)\n",
    "        \n",
    "        gen_grads = gen_tape.gradient(gen_loss, client_model.trainable_variables)\n",
    "        generator_optimizer.apply_gradients(zip(gen_grads, client_model.trainable_variables))\n",
    "    \n",
    "    print(f\"Batch {batch//batch_size + 1}: Real output: {real_output.numpy().mean()}, Fake output: {fake_output.numpy().mean()}\")\n",
    "    print(f\"Epoch {epoch+1}/{epochs}, Discriminator Loss: {disc_loss.numpy()}, Generator Loss: {gen_loss.numpy()}\")\n",
    "    for batch in range(0, len(Dc), batch_size):  ##只修改这部分\n",
    "        x_batch = Dc[batch:batch+batch_size]\n",
    "        y_batch = Yc[batch:batch+batch_size]  \n",
    "        loss_1 = train_step_client(x_batch, y_batch)\n",
    "    print(\"Epoch: {}, Batch: {}, Loss: {:.4f}\".format(epoch, batch, loss_1.numpy()))\n",
    "    \n",
    "    \n",
    "for epoch in range(1):\n",
    "    for batch in range(0, len(Dc), batch_size):\n",
    "        Dc_batch = Dc[batch:batch+batch_size]\n",
    "        Ds_batch = Ds[batch:batch+batch_size]      \n",
    "        # 生成器生成输出\n",
    "        Zc = client_model(Dc_batch)\n",
    "        Zs = client_model_1(Ds_batch)\n",
    "        # 打印模型输出值\n",
    "        real_output = discrim_model(Zs)\n",
    "        fake_output = discrim_model(Zc)\n",
    "        # 鉴别器的损失计算和优化\n",
    "        with tf.GradientTape() as disc_tape:\n",
    "            disc_loss = discriminator_loss(Zs, Zc)\n",
    "        disc_grads = disc_tape.gradient(disc_loss, discrim_model.trainable_variables)\n",
    "        discriminator_optimizer.apply_gradients(zip(disc_grads, discrim_model.trainable_variables))\n",
    "\n",
    "        # 生成器的损失计算和优化\n",
    "        with tf.GradientTape() as gen_tape:\n",
    "            Zc = client_model(Dc_batch)  # 重新生成 Zc\n",
    "            gen_loss = generator_loss(Zc)\n",
    "        \n",
    "        gen_grads = gen_tape.gradient(gen_loss, client_model.trainable_variables)\n",
    "        generator_optimizer.apply_gradients(zip(gen_grads, client_model.trainable_variables))\n",
    "        "
   ]
  },
  {
   "cell_type": "code",
   "execution_count": 36,
   "id": "71c553c2",
   "metadata": {},
   "outputs": [],
   "source": [
    "combined_model_mian_c = create_combined_model(client_model, server_model, compile_only=True)"
   ]
  },
  {
   "cell_type": "code",
   "execution_count": 37,
   "id": "f3976568",
   "metadata": {},
   "outputs": [
    {
     "name": "stdout",
     "output_type": "stream",
     "text": [
      "313/313 [==============================] - 3s 9ms/step - loss: 0.5479 - accuracy: 0.8499\n"
     ]
    }
   ],
   "source": [
    "loss, accuracy = combined_model_mian_c.evaluate(x_test, y_test, verbose=1)"
   ]
  },
  {
   "cell_type": "code",
   "execution_count": 38,
   "id": "793efae7",
   "metadata": {},
   "outputs": [
    {
     "name": "stdout",
     "output_type": "stream",
     "text": [
      "313/313 [==============================] - 3s 10ms/step - loss: 13.5856 - accuracy: 0.0995\n"
     ]
    }
   ],
   "source": [
    "loss, accuracy = combined_model_mian_c.evaluate(x_test_tigger, y_test_tigger, verbose=1)"
   ]
  },
  {
   "cell_type": "code",
   "execution_count": null,
   "id": "ec293e14",
   "metadata": {},
   "outputs": [],
   "source": []
  },
  {
   "cell_type": "code",
   "execution_count": null,
   "id": "9240e319",
   "metadata": {},
   "outputs": [],
   "source": []
  },
  {
   "cell_type": "code",
   "execution_count": 39,
   "id": "f5bce310",
   "metadata": {},
   "outputs": [],
   "source": [
    "#解决方案，将模型保存起来，然后用另一个程度的代码跑一下结果看看能不能正常运行。"
   ]
  },
  {
   "cell_type": "code",
   "execution_count": null,
   "id": "0fa50c8f",
   "metadata": {},
   "outputs": [],
   "source": []
  },
  {
   "cell_type": "code",
   "execution_count": null,
   "id": "716c062d",
   "metadata": {},
   "outputs": [],
   "source": []
  },
  {
   "cell_type": "code",
   "execution_count": null,
   "id": "bf00be9d",
   "metadata": {},
   "outputs": [],
   "source": []
  },
  {
   "cell_type": "code",
   "execution_count": null,
   "id": "6f18f5f0",
   "metadata": {},
   "outputs": [],
   "source": []
  },
  {
   "cell_type": "code",
   "execution_count": null,
   "id": "340b88f6",
   "metadata": {},
   "outputs": [],
   "source": []
  },
  {
   "cell_type": "code",
   "execution_count": null,
   "id": "3415bb54",
   "metadata": {},
   "outputs": [],
   "source": []
  },
  {
   "cell_type": "code",
   "execution_count": null,
   "id": "e039c101",
   "metadata": {},
   "outputs": [],
   "source": []
  },
  {
   "cell_type": "code",
   "execution_count": null,
   "id": "73381dfa",
   "metadata": {},
   "outputs": [],
   "source": []
  },
  {
   "cell_type": "code",
   "execution_count": null,
   "id": "ca664534",
   "metadata": {},
   "outputs": [],
   "source": []
  },
  {
   "cell_type": "code",
   "execution_count": null,
   "id": "73737609",
   "metadata": {},
   "outputs": [],
   "source": []
  },
  {
   "cell_type": "code",
   "execution_count": null,
   "id": "86e090a7",
   "metadata": {},
   "outputs": [],
   "source": []
  },
  {
   "cell_type": "code",
   "execution_count": 40,
   "id": "4cc6f433",
   "metadata": {},
   "outputs": [],
   "source": [
    "#313/313 [==============================] - 1s 3ms/step - loss: 0.9457 - accuracy: 0.7466\n",
    "#Test loss: 0.9456651210784912, Test accuracy: 0.7465999722480774\n"
   ]
  },
  {
   "cell_type": "code",
   "execution_count": null,
   "id": "069c62fd",
   "metadata": {},
   "outputs": [],
   "source": []
  },
  {
   "cell_type": "code",
   "execution_count": null,
   "id": "6ed59123",
   "metadata": {},
   "outputs": [],
   "source": []
  },
  {
   "cell_type": "code",
   "execution_count": null,
   "id": "ae8cbfbd",
   "metadata": {},
   "outputs": [],
   "source": []
  },
  {
   "cell_type": "code",
   "execution_count": null,
   "id": "b687f0b3",
   "metadata": {},
   "outputs": [],
   "source": []
  },
  {
   "cell_type": "code",
   "execution_count": null,
   "id": "4f806388",
   "metadata": {},
   "outputs": [],
   "source": []
  },
  {
   "cell_type": "code",
   "execution_count": null,
   "id": "cd966e62",
   "metadata": {},
   "outputs": [],
   "source": []
  },
  {
   "cell_type": "code",
   "execution_count": null,
   "id": "53543aae",
   "metadata": {},
   "outputs": [],
   "source": []
  },
  {
   "cell_type": "code",
   "execution_count": null,
   "id": "2e5ebe18",
   "metadata": {},
   "outputs": [],
   "source": []
  },
  {
   "cell_type": "code",
   "execution_count": null,
   "id": "f5e3162d",
   "metadata": {},
   "outputs": [],
   "source": []
  },
  {
   "cell_type": "code",
   "execution_count": null,
   "id": "991374d4",
   "metadata": {},
   "outputs": [],
   "source": []
  },
  {
   "cell_type": "code",
   "execution_count": null,
   "id": "636d5d5b",
   "metadata": {},
   "outputs": [],
   "source": []
  },
  {
   "cell_type": "markdown",
   "id": "8ba2408b",
   "metadata": {},
   "source": [
    "## "
   ]
  }
 ],
 "metadata": {
  "kernelspec": {
   "display_name": "Python 3 (ipykernel)",
   "language": "python",
   "name": "python3"
  },
  "language_info": {
   "codemirror_mode": {
    "name": "ipython",
    "version": 3
   },
   "file_extension": ".py",
   "mimetype": "text/x-python",
   "name": "python",
   "nbconvert_exporter": "python",
   "pygments_lexer": "ipython3",
   "version": "3.7.2"
  },
  "widgets": {
   "application/vnd.jupyter.widget-state+json": {
    "state": {},
    "version_major": 2,
    "version_minor": 0
   }
  }
 },
 "nbformat": 4,
 "nbformat_minor": 5
}
