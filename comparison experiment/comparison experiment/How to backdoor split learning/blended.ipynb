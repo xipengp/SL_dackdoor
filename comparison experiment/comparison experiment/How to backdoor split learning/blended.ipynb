{
 "cells": [
  {
   "cell_type": "code",
   "execution_count": 1,
   "id": "d2cf7d2c",
   "metadata": {},
   "outputs": [
    {
     "name": "stderr",
     "output_type": "stream",
     "text": [
      "2024-07-22 21:11:21.598462: I tensorflow/stream_executor/platform/default/dso_loader.cc:48] Successfully opened dynamic library libcudart.so.10.1\n"
     ]
    }
   ],
   "source": [
    "import tensorflow as tf\n",
    "from tensorflow.keras.datasets import cifar10\n",
    "from tensorflow.keras.applications import EfficientNetB0\n",
    "from tensorflow.keras.models import Sequential\n",
    "from tensorflow.keras.layers import Dense, Flatten, Input, GlobalAveragePooling2D\n",
    "from tensorflow.keras.utils import to_categorical\n",
    "import os\n",
    "\n",
    "from tensorflow.keras.optimizers import Adam\n",
    "os.environ[\"CUDA_VISIBLE_DEVICES\"] = '2'\n",
    "# 加载 CIFAR-10 数据\n",
    "import random\n",
    "import numpy as np\n",
    "# Load and preprocess CIFAR-10 data\n",
    "(x_train, y_train), (x_test, y_test) = cifar10.load_data()\n",
    "x_train = x_train.astype('float32') / 255.0\n",
    "x_test = x_test.astype('float32') / 255.0\n",
    "y_train = to_categorical(y_train, num_classes=10)\n",
    "y_test = to_categorical(y_test, num_classes=10)\n",
    "from sklearn.model_selection import train_test_split\n",
    "x_train, x_val, y_train, y_val = train_test_split(x_train, y_train, test_size=0.2, random_state=42)\n"
   ]
  },
  {
   "cell_type": "code",
   "execution_count": 2,
   "id": "07782bc2",
   "metadata": {},
   "outputs": [],
   "source": [
    "##该模型并没有使用双重对齐，因为我使用的数据错了。"
   ]
  },
  {
   "cell_type": "code",
   "execution_count": null,
   "id": "6566a773",
   "metadata": {},
   "outputs": [],
   "source": []
  },
  {
   "cell_type": "code",
   "execution_count": 3,
   "id": "39e81007",
   "metadata": {},
   "outputs": [
    {
     "name": "stderr",
     "output_type": "stream",
     "text": [
      "/home/xipeng/anaconda3/envs/keras2/lib/python3.7/site-packages/ipykernel_launcher.py:52: DeprecationWarning: Starting with ImageIO v3 the behavior of this function will switch to that of iio.v3.imread. To keep the current behavior (and make this warning disappear) use `import imageio.v2 as imageio` or call `imageio.v2.imread` directly.\n"
     ]
    }
   ],
   "source": [
    "from torchvision import transforms\n",
    "import imageio\n",
    "import numpy as np\n",
    "from PIL import Image\n",
    "from random import sample\n",
    "# 定义将NumPy数组转换为float32的类\n",
    "class convertNumpyArrayToFloat32(object):\n",
    "    def __call__(self, np_img):\n",
    "        return np_img.astype(np.float32)\n",
    "\n",
    "# 定义将NumPy数组的像素值裁剪到[0, 255]范围内并转换为uint8的类\n",
    "class clipAndConvertNumpyArrayToUint8(object):\n",
    "    def __call__(self, np_img):\n",
    "        return np.clip(np_img, 0, 255).astype(np.uint8)\n",
    "\n",
    "# 定义Blended Injection攻击的类\n",
    "class blendedImageAttack(object):\n",
    "    def __init__(self, target_image, blended_rate):\n",
    "        self.target_image = target_image\n",
    "        self.blended_rate = blended_rate\n",
    "\n",
    "    def __call__(self, img):\n",
    "        return (1-self.blended_rate) * img + (self.blended_rate) * self.target_image\n",
    "\n",
    "# 定义一个通用的数据增强组合类\n",
    "class general_compose(object):\n",
    "    def __init__(self, transform_list):\n",
    "        self.transform_list = transform_list\n",
    "\n",
    "    def __call__(self, img, *args, **kwargs):\n",
    "        for transform, if_all in self.transform_list:\n",
    "            if if_all == False:\n",
    "                img = transform(img)\n",
    "            else:\n",
    "                img = transform(img, *args, **kwargs)\n",
    "        return img\n",
    "\n",
    "# 定义一个转换管道，用于将图像转换为适合攻击的格式\n",
    "trans = transforms.Compose([\n",
    "    transforms.ToPILImage(),\n",
    "    transforms.Resize((32, 32)),  # 调整图像大小\n",
    "    transforms.ToTensor()\n",
    "])\n",
    "\n",
    "# 读取用于攻击的目标图像\n",
    "target_image_path = '/home/xipeng/BackDOOR/Blended/hello_kitty.jpeg'  # 请替换为你的目标图像的路径\n",
    "trans = transforms.Compose([\n",
    "    transforms.ToPILImage(),\n",
    "    transforms.Resize((32, 32)),  # 调整图像大小\n",
    "    transforms.ToTensor()\n",
    "])\n",
    "target_image = trans(imageio.imread(target_image_path)).numpy().transpose(1, 2, 0) * 255\n",
    "# 现在你可以使用train_bd_transform和test_bd_transform来创建你的攻击样本\n",
    "train_bd_transform = general_compose([\n",
    "    (lambda x: Image.fromarray((x * 255).astype('uint8')), False),  # 新增：将NumPy数组转换为PIL图像\n",
    "    (transforms.Resize((32, 32)), False),\n",
    "    (np.array, False),\n",
    "    (blendedImageAttack(target_image, 0.2), True),\n",
    "    (convertNumpyArrayToFloat32(), False),\n",
    "    (clipAndConvertNumpyArrayToUint8(), False),\n",
    "])\n",
    "\n",
    "test_bd_transform = general_compose([\n",
    "    (lambda x: Image.fromarray((x * 255).astype('uint8')), False),  # 新增：将NumPy数组转换为PIL图像\n",
    "    (transforms.Resize((32, 32)), False),\n",
    "    (np.array, False),\n",
    "    (blendedImageAttack(target_image, 0.2), True),\n",
    "    (convertNumpyArrayToFloat32(), False),\n",
    "    (clipAndConvertNumpyArrayToUint8(), False),\n",
    "])\n",
    "\n",
    "\n",
    "    \n",
    "# 选择1%的训练数据进行攻击\n",
    "\n",
    "target_class = 1  # 目标类别\n",
    "num_classes = 10  # CIFAR-10 数据集的类别数\n",
    "\n",
    "# 新的数据集和标签列表\n",
    "x_val_triggered = []  # 存储触发器转换后的图像\n",
    "y_val_triggered = []  # 存储更新后的标签\n",
    "\n",
    "x_val_tigger = x_val.copy()\n",
    "y_val_tigger = y_val.copy()\n",
    "y_val_tigger_2 = np.zeros(len(y_val))  # 所有标签初始化为0\n",
    "# 将标签转换为one-hot编码\n",
    "y_val_tigger_2 = to_categorical(y_val_tigger_2, num_classes=2)\n",
    "\n",
    "num_samples = int(0.1 * x_val.shape[0])\n",
    "indices = np.random.choice(y_val.shape[0], num_samples, replace=False)\n",
    "\n",
    "\n",
    "\n",
    "# 应用攻击到选中的图像\n",
    "for i in indices:\n",
    "    test_image = x_val_tigger[i]  # 获取单个图像\n",
    "    test_image_1 = train_bd_transform(test_image)  # 应用转换\n",
    "    x_val_tigger[i] = test_image_1.astype('float32') / 255.0  # 归一化\n",
    "    y_val_tigger[i] = to_categorical(target_class, num_classes=num_classes)  # 更新标签\n",
    "    \n",
    "    x_val_triggered.append(x_val_tigger[i])\n",
    "    y_val_triggered.append(to_categorical(target_class, num_classes=num_classes))\n",
    "    y_val_tigger_2[i] = to_categorical(target_class, num_classes = 2 )\n",
    "    \n",
    "# 将列表转换为NumPy数组（如果需要）\n",
    "x_val_triggered = np.array(x_val_triggered)\n",
    "y_val_triggered = np.array(y_val_triggered)\n",
    "    \n",
    "    \n",
    "    \n",
    "    \n",
    "    \n",
    "    \n",
    "    \n",
    "    \n",
    "    \n",
    "x_test_tigger = x_test.copy()\n",
    "y_test_tigger = y_test.copy()\n",
    "\n",
    "for i in range(len(x_test_tigger)):\n",
    "    index = i \n",
    "    test_image = x_test_tigger[index]  # 获取单个图像\n",
    "    test_image_1 = train_bd_transform(test_image)  # 应用转换\n",
    "    x_test_tigger[index] = test_image_1.astype('float32') / 255.0  # 归一化\n",
    "    y_test_tigger[index] = to_categorical(target_class, num_classes=num_classes)  # 更新标签\n",
    "\n",
    "\n",
    "\n",
    "\n",
    "    "
   ]
  },
  {
   "cell_type": "code",
   "execution_count": null,
   "id": "0b3be3da",
   "metadata": {},
   "outputs": [],
   "source": []
  },
  {
   "cell_type": "code",
   "execution_count": null,
   "id": "5cb98898",
   "metadata": {},
   "outputs": [],
   "source": []
  },
  {
   "cell_type": "code",
   "execution_count": 4,
   "id": "86666245",
   "metadata": {},
   "outputs": [],
   "source": [
    "import tensorflow as tf\n",
    "from tensorflow.keras import layers, models\n",
    "\n",
    "\n",
    "def create_client_model(input_shape):\n",
    "    input_layer = layers.Input(shape=input_shape)\n",
    "    \n",
    "    # 第一层卷积\n",
    "    x = layers.Conv2D(32, 3, strides=1, padding='same')(input_layer)\n",
    "    x = layers.BatchNormalization()(x)\n",
    "    x = layers.Activation('relu')(x)\n",
    "    \n",
    "    # 第二层卷积\n",
    "    x = layers.Conv2D(64, 3, strides=1, padding='same')(x)\n",
    "    x = layers.BatchNormalization()(x)\n",
    "    x = layers.Activation('relu')(x)\n",
    "    \n",
    "    # 新增的第三层卷积\n",
    "    x = layers.Conv2D(128, 3, strides=1, padding='same')(x)\n",
    "    x = layers.BatchNormalization()(x)\n",
    "    x = layers.Activation('relu')(x)\n",
    "    \n",
    "    model = models.Model(inputs=input_layer, outputs=x)\n",
    "    return model\n"
   ]
  },
  {
   "cell_type": "code",
   "execution_count": 5,
   "id": "568ffd60",
   "metadata": {},
   "outputs": [],
   "source": [
    "from tensorflow.keras import layers, models\n",
    "\n",
    "def res_block(filters, strides):\n",
    "    def block(x):\n",
    "        shortcut = x\n",
    "\n",
    "        x = layers.Conv2D(filters, 3, padding='same', strides=strides)(x)\n",
    "        x = layers.BatchNormalization()(x)\n",
    "        x = layers.Activation('relu')(x)\n",
    "\n",
    "        x = layers.Conv2D(filters, 3, padding='same')(x)\n",
    "        x = layers.BatchNormalization()(x)\n",
    "\n",
    "        # 捷径连接前的调整\n",
    "        shortcut = layers.Conv2D(filters, 1, strides=strides, padding='same')(shortcut)\n",
    "        shortcut = layers.BatchNormalization()(shortcut)\n",
    "\n",
    "        x = layers.add([x, shortcut])\n",
    "        x = layers.Activation('relu')(x)\n",
    "        return x\n",
    "    return block\n",
    "\n",
    "def create_server_model():\n",
    "    # 调整输入层的定义以匹配修改后的客户端模型的输出\n",
    "    input_layer = layers.Input(shape=(32, 32, 128))  # 注意这里的变化\n",
    "\n",
    "    # 残差块定义保持不变，继续使用提前定义的 res_block\n",
    "    x = res_block(64, 1)(input_layer)  # 使用第一个残差块\n",
    "    x = res_block(128, 2)(x)            # 使用第二个残差块\n",
    "    x = res_block(128, 2)(x)           # 使用第三个残差块\n",
    "    x = res_block(256, 2)(x)           # 使用第四个残差块\n",
    "\n",
    "    # 全局平均池化和输出层保持不变\n",
    "    x = layers.GlobalAveragePooling2D()(x)\n",
    "    output = layers.Dense(10, activation='softmax')(x)\n",
    "    \n",
    "    model = models.Model(inputs=input_layer, outputs=output)\n",
    "    return model"
   ]
  },
  {
   "cell_type": "code",
   "execution_count": 6,
   "id": "2aa66fb5",
   "metadata": {},
   "outputs": [],
   "source": [
    "def create_aux_model():\n",
    "    # 调整输入层的定义以匹配修改后的客户端模型的输出\n",
    "    input_layer = layers.Input(shape=(32, 32, 128))  # 注意这里的变化\n",
    "\n",
    "    # 第一个卷积层和ReLU激活\n",
    "    x = layers.Conv2D(128, 3, strides=2, padding='same')(input_layer)\n",
    "    x = layers.ReLU()(x)\n",
    "\n",
    "    # 第二个卷积层和ReLU激活\n",
    "    x = layers.Conv2D(128, 3, strides=2, padding='same')(x)\n",
    "    x = layers.ReLU()(x)\n",
    "\n",
    "    # 添加残差块\n",
    "    x = res_block(256, 1)(x)  # 使用第一个残差块\n",
    "    x = res_block(256, 1)(x) # 使用第二个残差块\n",
    "\n",
    "    # 第三个卷积层和ReLU激活\n",
    "    x = layers.Conv2D(256, 3, strides=2, padding='same')(x)\n",
    "    x = layers.ReLU()(x)\n",
    "\n",
    "    # 全连接层\n",
    "    x = layers.Flatten()(x)\n",
    "    output = layers.Dense(2, activation='softmax')(x)\n",
    "    \n",
    "    model = models.Model(inputs=input_layer, outputs=output)\n",
    "    return model\n"
   ]
  },
  {
   "cell_type": "code",
   "execution_count": 7,
   "id": "ca875f0c",
   "metadata": {},
   "outputs": [
    {
     "name": "stderr",
     "output_type": "stream",
     "text": [
      "2024-07-22 21:11:58.499413: I tensorflow/stream_executor/platform/default/dso_loader.cc:48] Successfully opened dynamic library libcuda.so.1\n",
      "2024-07-22 21:11:58.736304: I tensorflow/core/common_runtime/gpu/gpu_device.cc:1716] Found device 0 with properties: \n",
      "pciBusID: 0000:af:00.0 name: NVIDIA Tesla V100-PCIE-16GB computeCapability: 7.0\n",
      "coreClock: 1.38GHz coreCount: 80 deviceMemorySize: 15.78GiB deviceMemoryBandwidth: 836.37GiB/s\n",
      "2024-07-22 21:11:58.736384: I tensorflow/stream_executor/platform/default/dso_loader.cc:48] Successfully opened dynamic library libcudart.so.10.1\n",
      "2024-07-22 21:11:58.740008: I tensorflow/stream_executor/platform/default/dso_loader.cc:48] Successfully opened dynamic library libcublas.so.10\n",
      "2024-07-22 21:11:58.748590: I tensorflow/stream_executor/platform/default/dso_loader.cc:48] Successfully opened dynamic library libcufft.so.10\n",
      "2024-07-22 21:11:58.749132: I tensorflow/stream_executor/platform/default/dso_loader.cc:48] Successfully opened dynamic library libcurand.so.10\n",
      "2024-07-22 21:11:58.763315: I tensorflow/stream_executor/platform/default/dso_loader.cc:48] Successfully opened dynamic library libcusolver.so.10\n",
      "2024-07-22 21:11:58.765387: I tensorflow/stream_executor/platform/default/dso_loader.cc:48] Successfully opened dynamic library libcusparse.so.10\n",
      "2024-07-22 21:11:58.793920: I tensorflow/stream_executor/platform/default/dso_loader.cc:48] Successfully opened dynamic library libcudnn.so.7\n",
      "2024-07-22 21:11:58.807497: I tensorflow/core/common_runtime/gpu/gpu_device.cc:1858] Adding visible gpu devices: 0\n",
      "2024-07-22 21:11:58.808217: I tensorflow/core/platform/cpu_feature_guard.cc:142] This TensorFlow binary is optimized with oneAPI Deep Neural Network Library (oneDNN)to use the following CPU instructions in performance-critical operations:  AVX2 AVX512F FMA\n",
      "To enable them in other operations, rebuild TensorFlow with the appropriate compiler flags.\n",
      "2024-07-22 21:11:58.869755: I tensorflow/core/platform/profile_utils/cpu_utils.cc:104] CPU Frequency: 1700000000 Hz\n",
      "2024-07-22 21:11:58.870710: I tensorflow/compiler/xla/service/service.cc:168] XLA service 0x562eb4c9d960 initialized for platform Host (this does not guarantee that XLA will be used). Devices:\n",
      "2024-07-22 21:11:58.870749: I tensorflow/compiler/xla/service/service.cc:176]   StreamExecutor device (0): Host, Default Version\n",
      "2024-07-22 21:11:59.559457: I tensorflow/compiler/xla/service/service.cc:168] XLA service 0x562eb4d09ed0 initialized for platform CUDA (this does not guarantee that XLA will be used). Devices:\n",
      "2024-07-22 21:11:59.559511: I tensorflow/compiler/xla/service/service.cc:176]   StreamExecutor device (0): NVIDIA Tesla V100-PCIE-16GB, Compute Capability 7.0\n",
      "2024-07-22 21:11:59.561208: I tensorflow/core/common_runtime/gpu/gpu_device.cc:1716] Found device 0 with properties: \n",
      "pciBusID: 0000:af:00.0 name: NVIDIA Tesla V100-PCIE-16GB computeCapability: 7.0\n",
      "coreClock: 1.38GHz coreCount: 80 deviceMemorySize: 15.78GiB deviceMemoryBandwidth: 836.37GiB/s\n",
      "2024-07-22 21:11:59.561259: I tensorflow/stream_executor/platform/default/dso_loader.cc:48] Successfully opened dynamic library libcudart.so.10.1\n",
      "2024-07-22 21:11:59.561317: I tensorflow/stream_executor/platform/default/dso_loader.cc:48] Successfully opened dynamic library libcublas.so.10\n",
      "2024-07-22 21:11:59.561341: I tensorflow/stream_executor/platform/default/dso_loader.cc:48] Successfully opened dynamic library libcufft.so.10\n",
      "2024-07-22 21:11:59.561363: I tensorflow/stream_executor/platform/default/dso_loader.cc:48] Successfully opened dynamic library libcurand.so.10\n",
      "2024-07-22 21:11:59.561385: I tensorflow/stream_executor/platform/default/dso_loader.cc:48] Successfully opened dynamic library libcusolver.so.10\n",
      "2024-07-22 21:11:59.561406: I tensorflow/stream_executor/platform/default/dso_loader.cc:48] Successfully opened dynamic library libcusparse.so.10\n",
      "2024-07-22 21:11:59.561429: I tensorflow/stream_executor/platform/default/dso_loader.cc:48] Successfully opened dynamic library libcudnn.so.7\n",
      "2024-07-22 21:11:59.564074: I tensorflow/core/common_runtime/gpu/gpu_device.cc:1858] Adding visible gpu devices: 0\n",
      "2024-07-22 21:11:59.564126: I tensorflow/stream_executor/platform/default/dso_loader.cc:48] Successfully opened dynamic library libcudart.so.10.1\n",
      "2024-07-22 21:12:02.677762: I tensorflow/core/common_runtime/gpu/gpu_device.cc:1257] Device interconnect StreamExecutor with strength 1 edge matrix:\n",
      "2024-07-22 21:12:02.677823: I tensorflow/core/common_runtime/gpu/gpu_device.cc:1263]      0 \n",
      "2024-07-22 21:12:02.677838: I tensorflow/core/common_runtime/gpu/gpu_device.cc:1276] 0:   N \n",
      "2024-07-22 21:12:02.687242: I tensorflow/core/common_runtime/gpu/gpu_device.cc:1402] Created TensorFlow device (/job:localhost/replica:0/task:0/device:GPU:0 with 14765 MB memory) -> physical GPU (device: 0, name: NVIDIA Tesla V100-PCIE-16GB, pci bus id: 0000:af:00.0, compute capability: 7.0)\n"
     ]
    }
   ],
   "source": [
    "aux_model = create_aux_model()"
   ]
  },
  {
   "cell_type": "code",
   "execution_count": 8,
   "id": "108fac18",
   "metadata": {},
   "outputs": [],
   "source": [
    "def create_discrim_model():\n",
    "    # 调整输入层的定义以匹配修改后的客户端模型的输出\n",
    "    input_layer = layers.Input(shape=(32, 32, 128))   # 注意这里的变化\n",
    "\n",
    "    # 第一个卷积层和ReLU激活\n",
    "    x = layers.Conv2D(128, 3, strides=2, padding='same')(input_layer)\n",
    "    x = layers.ReLU()(x)\n",
    "\n",
    "    # 第二个卷积层和ReLU激活\n",
    "    x = layers.Conv2D(128, 3, strides=2, padding='same')(x)\n",
    "    x = layers.ReLU()(x)\n",
    "\n",
    "    # 添加三个残差块\n",
    "    x = res_block(256, 1)(x)  # 使用第一个残差块\n",
    "    x = res_block(256, 1)(x)  # 使用第二个残差块\n",
    "    x = res_block(256, 1)(x)  # 使用第三个残差块\n",
    "\n",
    "    # 第三个卷积层和ReLU激活\n",
    "    x = layers.Conv2D(256, 3, strides=2, padding='same')(x)\n",
    "    x = layers.ReLU()(x)\n",
    "\n",
    "    # 全连接层，输出单一值\n",
    "    x = layers.Flatten()(x)\n",
    "    output = layers.Dense(1, activation='sigmoid')(x)\n",
    "    \n",
    "    model = models.Model(inputs=input_layer, outputs=output)\n",
    "    return model\n"
   ]
  },
  {
   "cell_type": "code",
   "execution_count": 9,
   "id": "8cca7e78",
   "metadata": {},
   "outputs": [],
   "source": [
    "discrim_model = create_discrim_model()"
   ]
  },
  {
   "cell_type": "code",
   "execution_count": 10,
   "id": "d0cfb4c6",
   "metadata": {},
   "outputs": [
    {
     "name": "stdout",
     "output_type": "stream",
     "text": [
      "Model: \"functional_3\"\n",
      "__________________________________________________________________________________________________\n",
      "Layer (type)                    Output Shape         Param #     Connected to                     \n",
      "==================================================================================================\n",
      "input_2 (InputLayer)            [(None, 32, 32, 128) 0                                            \n",
      "__________________________________________________________________________________________________\n",
      "conv2d_9 (Conv2D)               (None, 16, 16, 128)  147584      input_2[0][0]                    \n",
      "__________________________________________________________________________________________________\n",
      "re_lu_3 (ReLU)                  (None, 16, 16, 128)  0           conv2d_9[0][0]                   \n",
      "__________________________________________________________________________________________________\n",
      "conv2d_10 (Conv2D)              (None, 8, 8, 128)    147584      re_lu_3[0][0]                    \n",
      "__________________________________________________________________________________________________\n",
      "re_lu_4 (ReLU)                  (None, 8, 8, 128)    0           conv2d_10[0][0]                  \n",
      "__________________________________________________________________________________________________\n",
      "conv2d_11 (Conv2D)              (None, 8, 8, 256)    295168      re_lu_4[0][0]                    \n",
      "__________________________________________________________________________________________________\n",
      "batch_normalization_6 (BatchNor (None, 8, 8, 256)    1024        conv2d_11[0][0]                  \n",
      "__________________________________________________________________________________________________\n",
      "activation_4 (Activation)       (None, 8, 8, 256)    0           batch_normalization_6[0][0]      \n",
      "__________________________________________________________________________________________________\n",
      "conv2d_12 (Conv2D)              (None, 8, 8, 256)    590080      activation_4[0][0]               \n",
      "__________________________________________________________________________________________________\n",
      "conv2d_13 (Conv2D)              (None, 8, 8, 256)    33024       re_lu_4[0][0]                    \n",
      "__________________________________________________________________________________________________\n",
      "batch_normalization_7 (BatchNor (None, 8, 8, 256)    1024        conv2d_12[0][0]                  \n",
      "__________________________________________________________________________________________________\n",
      "batch_normalization_8 (BatchNor (None, 8, 8, 256)    1024        conv2d_13[0][0]                  \n",
      "__________________________________________________________________________________________________\n",
      "add_2 (Add)                     (None, 8, 8, 256)    0           batch_normalization_7[0][0]      \n",
      "                                                                 batch_normalization_8[0][0]      \n",
      "__________________________________________________________________________________________________\n",
      "activation_5 (Activation)       (None, 8, 8, 256)    0           add_2[0][0]                      \n",
      "__________________________________________________________________________________________________\n",
      "conv2d_14 (Conv2D)              (None, 8, 8, 256)    590080      activation_5[0][0]               \n",
      "__________________________________________________________________________________________________\n",
      "batch_normalization_9 (BatchNor (None, 8, 8, 256)    1024        conv2d_14[0][0]                  \n",
      "__________________________________________________________________________________________________\n",
      "activation_6 (Activation)       (None, 8, 8, 256)    0           batch_normalization_9[0][0]      \n",
      "__________________________________________________________________________________________________\n",
      "conv2d_15 (Conv2D)              (None, 8, 8, 256)    590080      activation_6[0][0]               \n",
      "__________________________________________________________________________________________________\n",
      "conv2d_16 (Conv2D)              (None, 8, 8, 256)    65792       activation_5[0][0]               \n",
      "__________________________________________________________________________________________________\n",
      "batch_normalization_10 (BatchNo (None, 8, 8, 256)    1024        conv2d_15[0][0]                  \n",
      "__________________________________________________________________________________________________\n",
      "batch_normalization_11 (BatchNo (None, 8, 8, 256)    1024        conv2d_16[0][0]                  \n",
      "__________________________________________________________________________________________________\n",
      "add_3 (Add)                     (None, 8, 8, 256)    0           batch_normalization_10[0][0]     \n",
      "                                                                 batch_normalization_11[0][0]     \n",
      "__________________________________________________________________________________________________\n",
      "activation_7 (Activation)       (None, 8, 8, 256)    0           add_3[0][0]                      \n",
      "__________________________________________________________________________________________________\n",
      "conv2d_17 (Conv2D)              (None, 8, 8, 256)    590080      activation_7[0][0]               \n",
      "__________________________________________________________________________________________________\n",
      "batch_normalization_12 (BatchNo (None, 8, 8, 256)    1024        conv2d_17[0][0]                  \n",
      "__________________________________________________________________________________________________\n",
      "activation_8 (Activation)       (None, 8, 8, 256)    0           batch_normalization_12[0][0]     \n",
      "__________________________________________________________________________________________________\n",
      "conv2d_18 (Conv2D)              (None, 8, 8, 256)    590080      activation_8[0][0]               \n",
      "__________________________________________________________________________________________________\n",
      "conv2d_19 (Conv2D)              (None, 8, 8, 256)    65792       activation_7[0][0]               \n",
      "__________________________________________________________________________________________________\n",
      "batch_normalization_13 (BatchNo (None, 8, 8, 256)    1024        conv2d_18[0][0]                  \n",
      "__________________________________________________________________________________________________\n",
      "batch_normalization_14 (BatchNo (None, 8, 8, 256)    1024        conv2d_19[0][0]                  \n",
      "__________________________________________________________________________________________________\n",
      "add_4 (Add)                     (None, 8, 8, 256)    0           batch_normalization_13[0][0]     \n",
      "                                                                 batch_normalization_14[0][0]     \n",
      "__________________________________________________________________________________________________\n",
      "activation_9 (Activation)       (None, 8, 8, 256)    0           add_4[0][0]                      \n",
      "__________________________________________________________________________________________________\n",
      "conv2d_20 (Conv2D)              (None, 4, 4, 256)    590080      activation_9[0][0]               \n",
      "__________________________________________________________________________________________________\n",
      "re_lu_5 (ReLU)                  (None, 4, 4, 256)    0           conv2d_20[0][0]                  \n",
      "__________________________________________________________________________________________________\n",
      "flatten_1 (Flatten)             (None, 4096)         0           re_lu_5[0][0]                    \n",
      "__________________________________________________________________________________________________\n",
      "dense_1 (Dense)                 (None, 1)            4097        flatten_1[0][0]                  \n",
      "==================================================================================================\n",
      "Total params: 4,308,737\n",
      "Trainable params: 4,304,129\n",
      "Non-trainable params: 4,608\n",
      "__________________________________________________________________________________________________\n"
     ]
    }
   ],
   "source": [
    "discrim_model.summary()"
   ]
  },
  {
   "cell_type": "code",
   "execution_count": 11,
   "id": "5aa72051",
   "metadata": {},
   "outputs": [],
   "source": [
    "server_model = create_server_model()"
   ]
  },
  {
   "cell_type": "code",
   "execution_count": 12,
   "id": "d9e1cd22",
   "metadata": {},
   "outputs": [],
   "source": [
    "# 创建客户端模型\n",
    "client_model = create_client_model(input_shape=(32, 32, 3))\n",
    "\n",
    "# 编译客户端模型\n",
    "client_model.compile(optimizer=Adam(),\n",
    "                     loss='categorical_crossentropy',\n",
    "                     metrics=['accuracy'])\n"
   ]
  },
  {
   "cell_type": "code",
   "execution_count": null,
   "id": "dbb3d8ac",
   "metadata": {},
   "outputs": [],
   "source": []
  },
  {
   "cell_type": "code",
   "execution_count": null,
   "id": "20d1da5f",
   "metadata": {},
   "outputs": [],
   "source": []
  },
  {
   "cell_type": "code",
   "execution_count": 13,
   "id": "26f748bd",
   "metadata": {},
   "outputs": [],
   "source": [
    "# 以下是服务器模型训练的简化示例\n",
    "server_model.compile(optimizer=Adam(),\n",
    "                      loss='categorical_crossentropy',\n",
    "                      metrics=['accuracy'])\n",
    "discrim_model.compile(optimizer=Adam(),\n",
    "                      loss='categorical_crossentropy',\n",
    "                      metrics=['accuracy'])\n",
    "aux_model.compile(optimizer=Adam(),\n",
    "                      loss='categorical_crossentropy',\n",
    "                      metrics=['accuracy'])\n"
   ]
  },
  {
   "cell_type": "code",
   "execution_count": 14,
   "id": "038e22c8",
   "metadata": {},
   "outputs": [],
   "source": [
    "##创建三个影子模型，分别是1层卷积，2层卷积核3层卷积\n"
   ]
  },
  {
   "cell_type": "code",
   "execution_count": 15,
   "id": "699fad5e",
   "metadata": {},
   "outputs": [],
   "source": [
    "def create_client_model_1(input_shape):\n",
    "    input_layer = layers.Input(shape=input_shape)\n",
    "    # 确保输出为128个通道\n",
    "    x = layers.Conv2D(128, (3, 3), padding='same', activation='relu')(input_layer)\n",
    "    model = models.Model(inputs=input_layer, outputs=x)\n",
    "    return model\n",
    "def create_client_model_2(input_shape):\n",
    "    input_layer = layers.Input(shape=input_shape)\n",
    "    x = layers.Conv2D(64, (3, 3), padding='same', activation='relu')(input_layer)\n",
    "    # 第二层输出调整为128个通道\n",
    "    x = layers.Conv2D(128, (3, 3), padding='same', activation='relu')(x)\n",
    "    model = models.Model(inputs=input_layer, outputs=x)\n",
    "    return model\n",
    "def create_client_model_3(input_shape):\n",
    "    input_layer = layers.Input(shape=input_shape)\n",
    "    x = layers.Conv2D(32, (3, 3), padding='same', activation='relu')(input_layer)\n",
    "    x = layers.Conv2D(64, (3, 3), padding='same', activation='relu')(x)\n",
    "    x = layers.Conv2D(128, (3, 3), padding='same')(x)  # 移除这里的激活函数\n",
    "    x = layers.Activation('relu')(x)  # 显式添加ReLU激活层\n",
    "    model = models.Model(inputs=input_layer, outputs=x)\n",
    "    return model\n",
    "\n",
    "def create_client_model_4(input_shape):\n",
    "    input_layer = layers.Input(shape=input_shape)\n",
    "    x = layers.Conv2D(32, (3, 3), padding='same', activation='relu')(input_layer)\n",
    "    x = layers.Conv2D(64, (3, 3), padding='same', activation='relu')(x)\n",
    "    x = layers.Conv2D(64, (3, 3), padding='same', activation='relu')(x)\n",
    "    # 第四层输出调整为128个通道\n",
    "    x = layers.Conv2D(128, (3, 3), padding='same', activation='relu')(x)\n",
    "    model = models.Model(inputs=input_layer, outputs=x)\n",
    "    return model\n"
   ]
  },
  {
   "cell_type": "code",
   "execution_count": 16,
   "id": "b299dabd",
   "metadata": {},
   "outputs": [],
   "source": [
    "# Assuming TensorFlow is installed and the functions are defined in your script\n",
    "input_shape = (32, 32, 3)\n",
    "\n",
    "client_model_1 = create_client_model(input_shape=(32, 32, 3))"
   ]
  },
  {
   "cell_type": "code",
   "execution_count": 17,
   "id": "c9e1ff26",
   "metadata": {},
   "outputs": [],
   "source": [
    "###数据集\n",
    "###对于影子数据集，需要5000个，并且中毒率为百分之10.需要修改标签，\n",
    "###"
   ]
  },
  {
   "cell_type": "code",
   "execution_count": 18,
   "id": "cb3fc6fe",
   "metadata": {},
   "outputs": [],
   "source": [
    "from tensorflow.keras.preprocessing.image import ImageDataGenerator\n"
   ]
  },
  {
   "cell_type": "code",
   "execution_count": 19,
   "id": "de74a07e",
   "metadata": {},
   "outputs": [],
   "source": [
    "from tensorflow.keras import models\n",
    "\n",
    "# 获取client_model的输出，作为其他两个模型的输入\n",
    "feature_output = client_model_1.output\n",
    "\n",
    "# 用client_model的输出作为输入创建两个任务的模型\n",
    "server_output = server_model(feature_output)\n",
    "aux_output = aux_model(feature_output)\n",
    "\n",
    "combined_model = models.Model(inputs=client_model_1.input, outputs=[aux_output, server_output])\n",
    "combined_model.compile(optimizer='adam',\n",
    "                       loss={'aux_output': 'binary_crossentropy', \n",
    "                             'server_output': 'categorical_crossentropy'},\n",
    "                       loss_weights={'aux_output': 0.5, \n",
    "                                     'server_output': 0.5},\n",
    "                       metrics=['accuracy'])\n",
    "combined_model.compile(optimizer='adam',\n",
    "                       loss=['binary_crossentropy', 'categorical_crossentropy'],\n",
    "                       metrics=['accuracy'])\n",
    "\n",
    "\n",
    "\n",
    "\n"
   ]
  },
  {
   "cell_type": "code",
   "execution_count": 20,
   "id": "a0cf9752",
   "metadata": {},
   "outputs": [
    {
     "name": "stdout",
     "output_type": "stream",
     "text": [
      "Epoch 1/50\n"
     ]
    },
    {
     "name": "stderr",
     "output_type": "stream",
     "text": [
      "2024-07-22 21:12:27.012754: I tensorflow/stream_executor/platform/default/dso_loader.cc:48] Successfully opened dynamic library libcublas.so.10\n",
      "2024-07-22 21:12:27.887345: I tensorflow/stream_executor/platform/default/dso_loader.cc:48] Successfully opened dynamic library libcudnn.so.7\n",
      "2024-07-22 21:12:35.431063: W tensorflow/stream_executor/gpu/asm_compiler.cc:81] Running ptxas --version returned 256\n",
      "2024-07-22 21:12:36.036107: W tensorflow/stream_executor/gpu/redzone_allocator.cc:314] Internal: ptxas exited with non-zero error code 256, output: \n",
      "Relying on driver to perform ptx compilation. \n",
      "Modify $PATH to customize ptxas location.\n",
      "This message will be only logged once.\n"
     ]
    },
    {
     "name": "stdout",
     "output_type": "stream",
     "text": [
      "1250/1250 [==============================] - 390s 312ms/step - loss: 2.6901 - functional_1_loss: 1.5343 - functional_5_loss: 1.1558 - functional_1_accuracy: 0.8996 - functional_5_accuracy: 0.5822\n",
      "Epoch 2/50\n",
      "1250/1250 [==============================] - 34s 27ms/step - loss: 2.1266 - functional_1_loss: 1.5339 - functional_5_loss: 0.5927 - functional_1_accuracy: 0.9000 - functional_5_accuracy: 0.7935\n",
      "Epoch 3/50\n",
      "1250/1250 [==============================] - 35s 28ms/step - loss: 1.8223 - functional_1_loss: 1.5346 - functional_5_loss: 0.2876 - functional_1_accuracy: 0.8999 - functional_5_accuracy: 0.9036\n",
      "Epoch 4/50\n",
      "1250/1250 [==============================] - 34s 27ms/step - loss: 1.6805 - functional_1_loss: 1.5339 - functional_5_loss: 0.1466 - functional_1_accuracy: 0.9000 - functional_5_accuracy: 0.9510\n",
      "Epoch 5/50\n",
      "1250/1250 [==============================] - 36s 29ms/step - loss: 1.6192 - functional_1_loss: 1.5327 - functional_5_loss: 0.0865 - functional_1_accuracy: 0.9001 - functional_5_accuracy: 0.9712\n",
      "Epoch 6/50\n",
      "1250/1250 [==============================] - 34s 27ms/step - loss: 1.6052 - functional_1_loss: 1.5342 - functional_5_loss: 0.0709 - functional_1_accuracy: 0.9000 - functional_5_accuracy: 0.9756\n",
      "Epoch 7/50\n",
      "1250/1250 [==============================] - 34s 27ms/step - loss: 1.5905 - functional_1_loss: 1.5319 - functional_5_loss: 0.0585 - functional_1_accuracy: 0.9001 - functional_5_accuracy: 0.9797\n",
      "Epoch 8/50\n",
      "1250/1250 [==============================] - 34s 28ms/step - loss: 1.5823 - functional_1_loss: 1.5331 - functional_5_loss: 0.0492 - functional_1_accuracy: 0.9000 - functional_5_accuracy: 0.9831\n",
      "Epoch 9/50\n",
      "1250/1250 [==============================] - 35s 28ms/step - loss: 1.5727 - functional_1_loss: 1.5327 - functional_5_loss: 0.0400 - functional_1_accuracy: 0.9001 - functional_5_accuracy: 0.9865\n",
      "Epoch 10/50\n",
      "1250/1250 [==============================] - 34s 27ms/step - loss: 1.5698 - functional_1_loss: 1.5327 - functional_5_loss: 0.0371 - functional_1_accuracy: 0.9001 - functional_5_accuracy: 0.9876 5s - loss: 1.5825 - functional_1_loss: 1.543\n",
      "Epoch 11/50\n",
      "1250/1250 [==============================] - 37s 29ms/step - loss: 1.5721 - functional_1_loss: 1.5327 - functional_5_loss: 0.0394 - functional_1_accuracy: 0.9001 - functional_5_accuracy: 0.9868 0s - loss: 1.5734 - functional_1_loss: 1.5340 - functional_5_loss: 0.0394 - functional_1_accuracy: 0.9000 - functional_5_accuracy: 0.98\n",
      "Epoch 12/50\n",
      "1250/1250 [==============================] - 34s 27ms/step - loss: 1.5567 - functional_1_loss: 1.5350 - functional_5_loss: 0.0217 - functional_1_accuracy: 0.8999 - functional_5_accuracy: 0.9927\n",
      "Epoch 13/50\n",
      "1250/1250 [==============================] - 35s 28ms/step - loss: 1.5683 - functional_1_loss: 1.5327 - functional_5_loss: 0.0356 - functional_1_accuracy: 0.9001 - functional_5_accuracy: 0.9878\n",
      "Epoch 14/50\n",
      "1250/1250 [==============================] - 36s 28ms/step - loss: 1.5629 - functional_1_loss: 1.5350 - functional_5_loss: 0.0279 - functional_1_accuracy: 0.8999 - functional_5_accuracy: 0.9907\n",
      "Epoch 15/50\n",
      "1250/1250 [==============================] - 32s 26ms/step - loss: 1.5493 - functional_1_loss: 1.5331 - functional_5_loss: 0.0162 - functional_1_accuracy: 0.9000 - functional_5_accuracy: 0.9948\n",
      "Epoch 16/50\n",
      "1250/1250 [==============================] - 31s 25ms/step - loss: 1.5619 - functional_1_loss: 1.5331 - functional_5_loss: 0.0288 - functional_1_accuracy: 0.9000 - functional_5_accuracy: 0.9902\n",
      "Epoch 17/50\n",
      "1250/1250 [==============================] - 31s 25ms/step - loss: 1.5586 - functional_1_loss: 1.5346 - functional_5_loss: 0.0240 - functional_1_accuracy: 0.8999 - functional_5_accuracy: 0.9920\n",
      "Epoch 18/50\n",
      "1250/1250 [==============================] - 31s 25ms/step - loss: 1.5478 - functional_1_loss: 1.5346 - functional_5_loss: 0.0132 - functional_1_accuracy: 0.8999 - functional_5_accuracy: 0.9957\n",
      "Epoch 19/50\n",
      "1250/1250 [==============================] - 32s 25ms/step - loss: 1.5549 - functional_1_loss: 1.5342 - functional_5_loss: 0.0206 - functional_1_accuracy: 0.9000 - functional_5_accuracy: 0.9929\n",
      "Epoch 20/50\n",
      "1250/1250 [==============================] - 33s 26ms/step - loss: 1.5579 - functional_1_loss: 1.5342 - functional_5_loss: 0.0236 - functional_1_accuracy: 0.9000 - functional_5_accuracy: 0.9917\n",
      "Epoch 21/50\n",
      "1250/1250 [==============================] - 31s 25ms/step - loss: 1.5383 - functional_1_loss: 1.5346 - functional_5_loss: 0.0036 - functional_1_accuracy: 0.8999 - functional_5_accuracy: 0.9990\n",
      "Epoch 22/50\n",
      "1250/1250 [==============================] - 32s 26ms/step - loss: 1.5329 - functional_1_loss: 1.5327 - functional_5_loss: 1.7028e-04 - functional_1_accuracy: 0.9001 - functional_5_accuracy: 1.0000\n",
      "Epoch 23/50\n",
      "1250/1250 [==============================] - 32s 26ms/step - loss: 1.5332 - functional_1_loss: 1.5331 - functional_5_loss: 6.1140e-05 - functional_1_accuracy: 0.9000 - functional_5_accuracy: 1.0000\n",
      "Epoch 24/50\n",
      "1250/1250 [==============================] - 31s 25ms/step - loss: 1.5343 - functional_1_loss: 1.5342 - functional_5_loss: 3.0244e-05 - functional_1_accuracy: 0.9000 - functional_5_accuracy: 1.0000\n",
      "Epoch 25/50\n",
      "1250/1250 [==============================] - 31s 25ms/step - loss: 1.5350 - functional_1_loss: 1.5350 - functional_5_loss: 1.7746e-05 - functional_1_accuracy: 0.8999 - functional_5_accuracy: 1.0000\n",
      "Epoch 26/50\n",
      "1250/1250 [==============================] - 32s 26ms/step - loss: 1.5327 - functional_1_loss: 1.5327 - functional_5_loss: 9.7967e-06 - functional_1_accuracy: 0.9001 - functional_5_accuracy: 1.0000\n",
      "Epoch 27/50\n",
      "1250/1250 [==============================] - 32s 26ms/step - loss: 1.5343 - functional_1_loss: 1.5342 - functional_5_loss: 5.7948e-06 - functional_1_accuracy: 0.9000 - functional_5_accuracy: 1.0000\n",
      "Epoch 28/50\n",
      "1250/1250 [==============================] - 31s 25ms/step - loss: 1.5339 - functional_1_loss: 1.5339 - functional_5_loss: 3.2973e-06 - functional_1_accuracy: 0.9000 - functional_5_accuracy: 1.0000\n",
      "Epoch 29/50\n",
      "1250/1250 [==============================] - 33s 26ms/step - loss: 1.5342 - functional_1_loss: 1.5342 - functional_5_loss: 1.7885e-06 - functional_1_accuracy: 0.9000 - functional_5_accuracy: 1.0000\n",
      "Epoch 30/50\n",
      "1250/1250 [==============================] - 33s 26ms/step - loss: 1.5346 - functional_1_loss: 1.5346 - functional_5_loss: 9.9349e-07 - functional_1_accuracy: 0.8999 - functional_5_accuracy: 1.0000\n",
      "Epoch 31/50\n",
      "1250/1250 [==============================] - 35s 28ms/step - loss: 1.5335 - functional_1_loss: 1.5335 - functional_5_loss: 5.4454e-07 - functional_1_accuracy: 0.9000 - functional_5_accuracy: 1.0000\n",
      "Epoch 32/50\n",
      "1250/1250 [==============================] - 34s 27ms/step - loss: 1.5335 - functional_1_loss: 1.5335 - functional_5_loss: 3.0909e-07 - functional_1_accuracy: 0.9000 - functional_5_accuracy: 1.0000\n",
      "Epoch 33/50\n",
      "1250/1250 [==============================] - 34s 27ms/step - loss: 1.5354 - functional_1_loss: 1.5354 - functional_5_loss: 1.7132e-07 - functional_1_accuracy: 0.8999 - functional_5_accuracy: 1.0000\n",
      "Epoch 34/50\n",
      "1250/1250 [==============================] - 34s 28ms/step - loss: 1.5339 - functional_1_loss: 1.5339 - functional_5_loss: 9.5849e-08 - functional_1_accuracy: 0.9000 - functional_5_accuracy: 1.0000\n",
      "Epoch 35/50\n",
      "1250/1250 [==============================] - 35s 28ms/step - loss: 1.5339 - functional_1_loss: 1.5339 - functional_5_loss: 5.4957e-08 - functional_1_accuracy: 0.9000 - functional_5_accuracy: 1.0000\n",
      "Epoch 36/50\n",
      "1250/1250 [==============================] - 33s 27ms/step - loss: 1.5342 - functional_1_loss: 1.5342 - functional_5_loss: 3.3465e-08 - functional_1_accuracy: 0.9000 - functional_5_accuracy: 1.0000\n",
      "Epoch 37/50\n",
      "1250/1250 [==============================] - 34s 27ms/step - loss: 1.5335 - functional_1_loss: 1.5335 - functional_5_loss: 2.0176e-08 - functional_1_accuracy: 0.9000 - functional_5_accuracy: 1.0000\n",
      "Epoch 38/50\n",
      "1250/1250 [==============================] - 35s 28ms/step - loss: 1.5350 - functional_1_loss: 1.5350 - functional_5_loss: 1.2815e-08 - functional_1_accuracy: 0.8999 - functional_5_accuracy: 1.0000\n",
      "Epoch 39/50\n",
      "1250/1250 [==============================] - 33s 26ms/step - loss: 1.5335 - functional_1_loss: 1.5335 - functional_5_loss: 8.4923e-09 - functional_1_accuracy: 0.9000 - functional_5_accuracy: 1.0000\n",
      "Epoch 40/50\n",
      "1250/1250 [==============================] - 33s 27ms/step - loss: 1.5327 - functional_1_loss: 1.5327 - functional_5_loss: 6.0029e-09 - functional_1_accuracy: 0.9001 - functional_5_accuracy: 1.0000\n",
      "Epoch 41/50\n",
      "1250/1250 [==============================] - 35s 28ms/step - loss: 1.5327 - functional_1_loss: 1.5327 - functional_5_loss: 4.8148e-09 - functional_1_accuracy: 0.9001 - functional_5_accuracy: 1.0000\n",
      "Epoch 42/50\n",
      "1250/1250 [==============================] - 35s 28ms/step - loss: 1.5331 - functional_1_loss: 1.5331 - functional_5_loss: 3.7999e-09 - functional_1_accuracy: 0.9000 - functional_5_accuracy: 1.0000\n",
      "Epoch 43/50\n",
      "1250/1250 [==============================] - 34s 27ms/step - loss: 1.5339 - functional_1_loss: 1.5339 - functional_5_loss: 3.0656e-09 - functional_1_accuracy: 0.9000 - functional_5_accuracy: 1.0000\n",
      "Epoch 44/50\n",
      "1250/1250 [==============================] - 34s 27ms/step - loss: 1.5331 - functional_1_loss: 1.5331 - functional_5_loss: 2.5641e-09 - functional_1_accuracy: 0.9000 - functional_5_accuracy: 1.0000\n",
      "Epoch 45/50\n",
      "1250/1250 [==============================] - 34s 27ms/step - loss: 1.5319 - functional_1_loss: 1.5319 - functional_5_loss: 2.2626e-09 - functional_1_accuracy: 0.9001 - functional_5_accuracy: 1.0000\n",
      "Epoch 46/50\n",
      "1250/1250 [==============================] - 32s 26ms/step - loss: 1.5342 - functional_1_loss: 1.5342 - functional_5_loss: 2.1432e-09 - functional_1_accuracy: 0.9000 - functional_5_accuracy: 1.0000\n",
      "Epoch 47/50\n",
      "1250/1250 [==============================] - 30s 24ms/step - loss: 1.5358 - functional_1_loss: 1.5358 - functional_5_loss: 1.8000e-09 - functional_1_accuracy: 0.8999 - functional_5_accuracy: 1.0000\n",
      "Epoch 48/50\n",
      "1250/1250 [==============================] - 31s 25ms/step - loss: 1.5335 - functional_1_loss: 1.5335 - functional_5_loss: 1.5791e-09 - functional_1_accuracy: 0.9000 - functional_5_accuracy: 1.0000\n",
      "Epoch 49/50\n",
      "1250/1250 [==============================] - 31s 24ms/step - loss: 1.5335 - functional_1_loss: 1.5335 - functional_5_loss: 1.4059e-09 - functional_1_accuracy: 0.9000 - functional_5_accuracy: 1.0000\n",
      "Epoch 50/50\n",
      "1250/1250 [==============================] - 30s 24ms/step - loss: 1.5346 - functional_1_loss: 1.5346 - functional_5_loss: 1.4030e-09 - functional_1_accuracy: 0.8999 - functional_5_accuracy: 1.0000\n"
     ]
    }
   ],
   "source": [
    "def preprocess(image, label1, label2):\n",
    "    # 随机翻转图像\n",
    "    image = tf.image.random_flip_left_right(image)\n",
    "    # 随机调整亮度\n",
    "    image = tf.image.random_brightness(image, max_delta=0.1)\n",
    "    # 其他数据增强操作...\n",
    "    return image, (label1, label2)\n",
    "train_dataset = tf.data.Dataset.from_tensor_slices((x_val_tigger, y_val_tigger_2, y_val_tigger))\n",
    "train_dataset = train_dataset.map(preprocess)  # 应用数据增强\n",
    "train_dataset = train_dataset.batch(32)        # 批处理大小\n",
    "train_dataset = train_dataset.repeat()         # 重复数据集\n",
    "\n",
    "# 使用数据集训练模型\n",
    "history = combined_model.fit(train_dataset,\n",
    "                             epochs=50,\n",
    "                             steps_per_epoch=len(x_train) // 32)"
   ]
  },
  {
   "cell_type": "code",
   "execution_count": 21,
   "id": "2b403b5d",
   "metadata": {},
   "outputs": [],
   "source": [
    "###可以看到训练精度还是蛮高的，但是测试精度不理想。过拟合了"
   ]
  },
  {
   "cell_type": "code",
   "execution_count": null,
   "id": "d17b25ae",
   "metadata": {},
   "outputs": [],
   "source": [
    "\n"
   ]
  },
  {
   "cell_type": "code",
   "execution_count": null,
   "id": "7839d35f",
   "metadata": {},
   "outputs": [],
   "source": []
  },
  {
   "cell_type": "code",
   "execution_count": null,
   "id": "60d8fede",
   "metadata": {},
   "outputs": [],
   "source": []
  },
  {
   "cell_type": "code",
   "execution_count": 22,
   "id": "08f4844f",
   "metadata": {},
   "outputs": [],
   "source": [
    "from tensorflow.keras.models import Model\n",
    "def create_combined_model(client_model, server_model, compile_only=False):\n",
    "    # Getting the input of the client model\n",
    "    client_input = client_model.input\n",
    "    \n",
    "    # Getting the intermediate output by passing the input through the client model\n",
    "    client_output = client_model(client_input)\n",
    "    \n",
    "    # The client model's output is used as the input for the server model\n",
    "    server_output = server_model(client_output)\n",
    "    \n",
    "    # Defining a new model that chains the client and server models\n",
    "    combined_model = Model(inputs=client_input, outputs=server_output)\n",
    "    \n",
    "    # Compile the combined model\n",
    "    combined_model.compile(optimizer=Adam(),\n",
    "                           loss='categorical_crossentropy',\n",
    "                           metrics=['accuracy'])\n",
    "    \n",
    "    if not compile_only:\n",
    "        # If not compile_only, evaluate the model\n",
    "        loss, accuracy = combined_model.evaluate(x_test, y_test, verbose=0)\n",
    "        print(f\"Test loss: {loss}, Test accuracy: {accuracy}\")\n",
    "    \n",
    "    return combined_model\n",
    "combined_model_mian = create_combined_model(client_model_1, server_model, compile_only=True)\n",
    "combined_model_aux = create_combined_model(client_model_1, aux_model, compile_only=True)"
   ]
  },
  {
   "cell_type": "code",
   "execution_count": 23,
   "id": "7c2664cb",
   "metadata": {},
   "outputs": [
    {
     "name": "stdout",
     "output_type": "stream",
     "text": [
      "313/313 [==============================] - 2s 6ms/step - loss: 1.6231e-06 - accuracy: 1.0000\n"
     ]
    }
   ],
   "source": [
    "loss, accuracy = combined_model_mian.evaluate(x_val_tigger, y_val_tigger, verbose=1)\n",
    "##数据集太小会导致过拟合，因此 - loss: 1.7600e-07 - accuracy: 1.0000"
   ]
  },
  {
   "cell_type": "code",
   "execution_count": 24,
   "id": "daddca55",
   "metadata": {},
   "outputs": [
    {
     "name": "stdout",
     "output_type": "stream",
     "text": [
      "313/313 [==============================] - 2s 5ms/step - loss: 19.0557 - accuracy: 0.9000\n"
     ]
    }
   ],
   "source": [
    "loss, accuracy = combined_model_aux.evaluate(x_val_tigger, y_val_tigger_2, verbose=1)\n",
    "#0.9证明全部归为了1。 数据集不均衡，会导致二分类器没办法使用，这里也是一个bug"
   ]
  },
  {
   "cell_type": "code",
   "execution_count": 25,
   "id": "ef5a3a9b",
   "metadata": {},
   "outputs": [
    {
     "name": "stdout",
     "output_type": "stream",
     "text": [
      "313/313 [==============================] - 2s 6ms/step - loss: 2.7040 - accuracy: 0.7233\n"
     ]
    }
   ],
   "source": [
    "loss, accuracy = combined_model_mian.evaluate(x_test, y_test, verbose=1)\n",
    "##因为数据集比较小，因此精度会比客户端小很多，正常"
   ]
  },
  {
   "cell_type": "code",
   "execution_count": 26,
   "id": "9ad6a982",
   "metadata": {},
   "outputs": [
    {
     "name": "stdout",
     "output_type": "stream",
     "text": [
      "313/313 [==============================] - 2s 6ms/step - loss: 0.0334 - accuracy: 0.9950\n"
     ]
    }
   ],
   "source": [
    "loss, accuracy = combined_model_mian.evaluate(x_test_tigger, y_test_tigger, verbose=1)\n",
    "##后门成功率很高。"
   ]
  },
  {
   "cell_type": "code",
   "execution_count": 27,
   "id": "a6e67ea9",
   "metadata": {},
   "outputs": [],
   "source": [
    "import tensorflow as tf\n",
    "from tensorflow.keras.models import Sequential\n",
    "from tensorflow.keras.layers import Dense\n",
    "from tensorflow.keras.optimizers import Adam\n",
    "from tensorflow.data import Dataset\n",
    "from tensorflow.keras.losses import BinaryCrossentropy\n",
    "\n",
    "def train_discriminator(model, real_data, fake_data, optimizer):\n",
    "    \"\"\"\n",
    "    Train the discriminator on one batch of real and fake data using TensorFlow.\n",
    "    \n",
    "    Args:\n",
    "    model (tf.keras.Model): The discriminator model.\n",
    "    real_data (tf.Tensor): Batch of real data.\n",
    "    fake_data (tf.Tensor): Batch of fake data.\n",
    "    optimizer (tf.keras.optimizers.Optimizer): Optimizer for the discriminator.\n",
    "    \n",
    "    Returns:\n",
    "    float: The loss value.\n",
    "    \"\"\"\n",
    "    # 真实数据标签（1）和假数据标签（0）\n",
    "    real_labels = tf.ones((real_data.shape[0], 1))\n",
    "    fake_labels = tf.zeros((fake_data.shape[0], 1))\n",
    "\n",
    "    # 合并真实数据和假数据及其标签\n",
    "    inputs = tf.concat([real_data, fake_data], axis=0)\n",
    "    labels = tf.concat([real_labels, fake_labels], axis=0)\n",
    "\n",
    "    with tf.GradientTape() as tape:\n",
    "        predictions = model(inputs, training=True)\n",
    "        loss = BinaryCrossentropy(from_logits=False)(labels, predictions)\n",
    "\n",
    "    # 计算梯度并更新模型参数\n",
    "    gradients = tape.gradient(loss, model.trainable_variables)\n",
    "    optimizer.apply_gradients(zip(gradients, model.trainable_variables))\n",
    "    \n",
    "    return loss.numpy()  # 返回损失值\n",
    "\n"
   ]
  },
  {
   "cell_type": "code",
   "execution_count": 28,
   "id": "c7984014",
   "metadata": {},
   "outputs": [],
   "source": [
    "def train_client_model(client_model, discrim_model, train_batch, optimizer):\n",
    "    \"\"\"\n",
    "    Train the client model so that the discriminator cannot distinguish\n",
    "    between real (val_batch) and fake (generated by client_model).\n",
    "    \n",
    "    Args:\n",
    "    client_model (tf.keras.Model): The client model to be trained.\n",
    "    discrim_model (tf.keras.Model): The discriminator model.\n",
    "    train_batch (tf.Tensor): Batch of real data.\n",
    "    optimizer (tf.keras.optimizers.Optimizer): Optimizer for the client model.\n",
    "    \n",
    "    Returns:\n",
    "    float: The loss value.\n",
    "    \"\"\"\n",
    "    with tf.GradientTape() as tape:\n",
    "        # 通过 client_model 生成的输出\n",
    "        generated_data = client_model(train_batch, training=True)\n",
    "        \n",
    "        # 通过 discrim_model 计算生成数据的判别值，确保 discrim_model 处于评估模式\n",
    "        fake_outputs = discrim_model(generated_data, training=False)\n",
    "        \n",
    "        # 计算损失，使得 discrim_model 无法区分 generated_data 和真实数据\n",
    "        loss = -tf.reduce_mean(tf.math.log(1 - fake_outputs + 1e-8))  # 1e-8 防止 log(0)\n",
    "    \n",
    "    # 计算 client_model 的梯度并更新\n",
    "    gradients = tape.gradient(loss, client_model.trainable_variables)\n",
    "    optimizer.apply_gradients(zip(gradients, client_model.trainable_variables))\n",
    "    \n",
    "    return loss.numpy()"
   ]
  },
  {
   "cell_type": "code",
   "execution_count": 29,
   "id": "927db47c",
   "metadata": {},
   "outputs": [],
   "source": [
    "from torch.utils.data import DataLoader\n",
    "from itertools import cycle"
   ]
  },
  {
   "cell_type": "code",
   "execution_count": 30,
   "id": "a434d0c2",
   "metadata": {},
   "outputs": [],
   "source": [
    "def augment(image, label):\n",
    "    # 随机水平翻转图像\n",
    "    image = tf.image.random_flip_left_right(image)\n",
    "    # 随机调整亮度\n",
    "    image = tf.image.random_brightness(image, max_delta=0.1)\n",
    "    # 确保图像值仍然在0到1的范围内\n",
    "    image = tf.clip_by_value(image, 0.0, 1.0)\n",
    "    return image, label"
   ]
  },
  {
   "cell_type": "code",
   "execution_count": 31,
   "id": "33aff8ca",
   "metadata": {},
   "outputs": [
    {
     "name": "stdout",
     "output_type": "stream",
     "text": [
      "Epoch: 0, Loss: 18.42068099975586\n",
      "Epoch: 1, Loss: 0.03800633177161217\n",
      "Epoch: 2, Loss: 0.006248039659112692\n",
      "Epoch: 3, Loss: 0.44135233759880066\n",
      "Epoch: 4, Loss: 0.0021433106157928705\n",
      "Epoch: 5, Loss: 6.173593283165246e-05\n",
      "Epoch: 6, Loss: 18.356550216674805\n",
      "Epoch: 7, Loss: 0.003587109502404928\n",
      "Epoch: 8, Loss: 0.004963736981153488\n",
      "Epoch: 9, Loss: 0.05679326504468918\n",
      "Epoch: 10, Loss: 18.42068099975586\n",
      "Epoch: 11, Loss: 0.011280179023742676\n",
      "Epoch: 12, Loss: 0.03308934345841408\n",
      "Epoch: 13, Loss: 1.7088083028793335\n",
      "Epoch: 14, Loss: 0.007741127163171768\n",
      "Epoch: 15, Loss: 0.010938375256955624\n",
      "Epoch: 16, Loss: 6.6572957038879395\n",
      "Epoch: 17, Loss: 0.16526752710342407\n",
      "Epoch: 18, Loss: 0.04240836948156357\n",
      "Epoch: 19, Loss: 0.13475775718688965\n"
     ]
    }
   ],
   "source": [
    "num_epochs = 20 # 定义训练的轮数\n",
    "batch_size = 64  # 或者根据你的内存限制调整\n",
    "\n",
    "\n",
    "\n",
    "train_dataset = tf.data.Dataset.from_tensor_slices(x_train).batch(64)\n",
    "val_dataset = tf.data.Dataset.from_tensor_slices(x_val_tigger).batch(32).repeat()\n",
    "\n",
    "\n",
    "\n",
    "\n",
    "discrim_model.compile(optimizer=Adam(learning_rate=0.0002, beta_1=0.5), loss='binary_crossentropy', metrics=['accuracy'])\n",
    "client_optimizer = Adam(learning_rate=0.0002, beta_1=0.5)\n",
    "optimizer = Adam(learning_rate=0.0002, beta_1=0.5)\n",
    "\n",
    "\n",
    "combined_dataset = tf.data.Dataset.zip((train_dataset, val_dataset))\n",
    "\n",
    "# 使用 itertools.cycle 让验证数据循环使用\n",
    "#val_loader = cycle(val_loader)\n",
    "for epoch in range(num_epochs):\n",
    "    for (train_batch, val_batch) in combined_dataset:\n",
    "        real_data = client_model(train_batch)\n",
    "        fake_data = client_model_1(val_batch)\n",
    "        loss = train_discriminator(discrim_model, real_data, fake_data, optimizer)\n",
    "        loss = train_client_model(client_model, discrim_model, train_batch, client_optimizer)\n",
    "    print(f\"Epoch: {epoch}, Loss: {loss}\")\n",
    "    "
   ]
  },
  {
   "cell_type": "code",
   "execution_count": 32,
   "id": "b46ec308",
   "metadata": {},
   "outputs": [],
   "source": [
    "combined_model_mian_c = create_combined_model(client_model, server_model, compile_only=True)"
   ]
  },
  {
   "cell_type": "code",
   "execution_count": 33,
   "id": "8de5fd7c",
   "metadata": {},
   "outputs": [
    {
     "name": "stdout",
     "output_type": "stream",
     "text": [
      "313/313 [==============================] - 2s 5ms/step - loss: 4.0376 - accuracy: 0.5685\n"
     ]
    }
   ],
   "source": [
    "loss, accuracy = combined_model_mian_c.evaluate(x_test, y_test, verbose=1)"
   ]
  },
  {
   "cell_type": "code",
   "execution_count": 34,
   "id": "01d8566a",
   "metadata": {},
   "outputs": [
    {
     "name": "stdout",
     "output_type": "stream",
     "text": [
      "313/313 [==============================] - 2s 5ms/step - loss: 0.7214 - accuracy: 0.8993\n"
     ]
    }
   ],
   "source": [
    "loss, accuracy = combined_model_mian_c.evaluate(x_test_tigger, y_test_tigger, verbose=1)"
   ]
  },
  {
   "cell_type": "code",
   "execution_count": 35,
   "id": "e5c3f867",
   "metadata": {},
   "outputs": [
    {
     "name": "stdout",
     "output_type": "stream",
     "text": [
      "313/313 [==============================] - 2s 6ms/step - loss: 0.8616 - accuracy: 0.8490\n"
     ]
    }
   ],
   "source": [
    "loss, accuracy = combined_model_mian_c.evaluate(x_val_tigger, y_val_tigger, verbose=1)"
   ]
  },
  {
   "cell_type": "code",
   "execution_count": 36,
   "id": "4351063e",
   "metadata": {},
   "outputs": [
    {
     "name": "stdout",
     "output_type": "stream",
     "text": [
      "313/313 [==============================] - 2s 5ms/step - loss: 1.2085 - accuracy: 0.8159\n"
     ]
    }
   ],
   "source": [
    "loss, accuracy = combined_model_mian_c.evaluate(x_val, y_val, verbose=1)"
   ]
  },
  {
   "cell_type": "code",
   "execution_count": null,
   "id": "ba0b1906",
   "metadata": {},
   "outputs": [],
   "source": []
  },
  {
   "cell_type": "code",
   "execution_count": null,
   "id": "b319fc68",
   "metadata": {},
   "outputs": [],
   "source": []
  },
  {
   "cell_type": "code",
   "execution_count": null,
   "id": "59ab91ea",
   "metadata": {},
   "outputs": [],
   "source": []
  },
  {
   "cell_type": "code",
   "execution_count": null,
   "id": "2c9c2a5f",
   "metadata": {},
   "outputs": [],
   "source": []
  },
  {
   "cell_type": "code",
   "execution_count": null,
   "id": "0f28b7cd",
   "metadata": {},
   "outputs": [],
   "source": []
  },
  {
   "cell_type": "code",
   "execution_count": null,
   "id": "3915a8d2",
   "metadata": {},
   "outputs": [],
   "source": []
  },
  {
   "cell_type": "code",
   "execution_count": null,
   "id": "ff0215e3",
   "metadata": {},
   "outputs": [],
   "source": []
  },
  {
   "cell_type": "code",
   "execution_count": null,
   "id": "338f752c",
   "metadata": {},
   "outputs": [],
   "source": []
  },
  {
   "cell_type": "code",
   "execution_count": null,
   "id": "9137da72",
   "metadata": {},
   "outputs": [],
   "source": []
  },
  {
   "cell_type": "code",
   "execution_count": null,
   "id": "43e7309d",
   "metadata": {},
   "outputs": [],
   "source": []
  },
  {
   "cell_type": "code",
   "execution_count": null,
   "id": "fa1d8980",
   "metadata": {},
   "outputs": [],
   "source": []
  },
  {
   "cell_type": "code",
   "execution_count": null,
   "id": "35c16237",
   "metadata": {},
   "outputs": [],
   "source": []
  },
  {
   "cell_type": "code",
   "execution_count": 37,
   "id": "ace68fa3",
   "metadata": {},
   "outputs": [],
   "source": [
    "#313/313 [==============================] - 1s 3ms/step - loss: 0.9457 - accuracy: 0.7466\n",
    "#Test loss: 0.9456651210784912, Test accuracy: 0.7465999722480774\n"
   ]
  },
  {
   "cell_type": "code",
   "execution_count": null,
   "id": "96761d0c",
   "metadata": {},
   "outputs": [],
   "source": []
  },
  {
   "cell_type": "code",
   "execution_count": null,
   "id": "ac33f601",
   "metadata": {},
   "outputs": [],
   "source": []
  },
  {
   "cell_type": "code",
   "execution_count": null,
   "id": "130fad01",
   "metadata": {},
   "outputs": [],
   "source": []
  },
  {
   "cell_type": "code",
   "execution_count": null,
   "id": "383155e7",
   "metadata": {},
   "outputs": [],
   "source": []
  },
  {
   "cell_type": "code",
   "execution_count": null,
   "id": "347ad522",
   "metadata": {},
   "outputs": [],
   "source": []
  },
  {
   "cell_type": "code",
   "execution_count": null,
   "id": "8bfc1e93",
   "metadata": {},
   "outputs": [],
   "source": []
  },
  {
   "cell_type": "code",
   "execution_count": null,
   "id": "59a7ca58",
   "metadata": {},
   "outputs": [],
   "source": []
  },
  {
   "cell_type": "code",
   "execution_count": null,
   "id": "04ef120d",
   "metadata": {},
   "outputs": [],
   "source": []
  },
  {
   "cell_type": "code",
   "execution_count": null,
   "id": "80d6c799",
   "metadata": {},
   "outputs": [],
   "source": []
  },
  {
   "cell_type": "code",
   "execution_count": null,
   "id": "9f512ba9",
   "metadata": {},
   "outputs": [],
   "source": []
  },
  {
   "cell_type": "code",
   "execution_count": null,
   "id": "bb70c6d0",
   "metadata": {},
   "outputs": [],
   "source": []
  },
  {
   "cell_type": "markdown",
   "id": "63cb567f",
   "metadata": {},
   "source": [
    "## "
   ]
  }
 ],
 "metadata": {
  "kernelspec": {
   "display_name": "Python 3 (ipykernel)",
   "language": "python",
   "name": "python3"
  },
  "language_info": {
   "codemirror_mode": {
    "name": "ipython",
    "version": 3
   },
   "file_extension": ".py",
   "mimetype": "text/x-python",
   "name": "python",
   "nbconvert_exporter": "python",
   "pygments_lexer": "ipython3",
   "version": "3.7.2"
  },
  "widgets": {
   "application/vnd.jupyter.widget-state+json": {
    "state": {},
    "version_major": 2,
    "version_minor": 0
   }
  }
 },
 "nbformat": 4,
 "nbformat_minor": 5
}
